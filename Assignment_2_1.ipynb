{
  "nbformat": 4,
  "nbformat_minor": 0,
  "metadata": {
    "colab": {
      "provenance": [],
      "toc_visible": true,
      "authorship_tag": "ABX9TyNr1an2wlX0v1Dq7BPM3Ev4",
      "include_colab_link": true
    },
    "kernelspec": {
      "name": "python3",
      "display_name": "Python 3"
    },
    "language_info": {
      "name": "python"
    },
    "gpuClass": "standard"
  },
  "cells": [
    {
      "cell_type": "markdown",
      "metadata": {
        "id": "view-in-github",
        "colab_type": "text"
      },
      "source": [
        "<a href=\"https://colab.research.google.com/github/JonathanKolb/MLNNs_A2/blob/playing-around/Assignment_2_1.ipynb\" target=\"_parent\"><img src=\"https://colab.research.google.com/assets/colab-badge.svg\" alt=\"Open In Colab\"/></a>"
      ]
    },
    {
      "cell_type": "markdown",
      "source": [
        "<a id=\"loading\"></a>\n",
        "# 1. Load packages and data"
      ],
      "metadata": {
        "id": "NbEufoDGTMqH"
      }
    },
    {
      "cell_type": "markdown",
      "source": [
        "Mount the Google Drive to the runtime so I can access files from there."
      ],
      "metadata": {
        "id": "HRzOOsL1I_FE"
      }
    },
    {
      "cell_type": "code",
      "execution_count": null,
      "metadata": {
        "colab": {
          "base_uri": "https://localhost:8080/"
        },
        "id": "JlD7V8HPY-7_",
        "outputId": "cdf947b7-b792-4ae8-8190-7d6a0439eed5"
      },
      "outputs": [
        {
          "output_type": "stream",
          "name": "stdout",
          "text": [
            "Mounted at /content/drive\n",
            "/content/drive/MyDrive/Assignment_2/input\n",
            "/content/drive/MyDrive/Assignment_2/input\n"
          ]
        }
      ],
      "source": [
        "from google.colab import drive\n",
        "drive.mount('/content/drive')\n",
        "%cd \"/content/drive/MyDrive/Assignment_2/input\"\n",
        "!pwd"
      ]
    },
    {
      "cell_type": "code",
      "source": [
        "import numpy as np\n",
        "import pandas as pd\n",
        "import seaborn as sns\n",
        "import matplotlib.pyplot as plt\n",
        "from matplotlib.pyplot import rcParams\n",
        "%matplotlib inline\n",
        "rcParams['figure.figsize'] = 10,8\n",
        "sns.set(style='whitegrid', palette='muted',\n",
        "        rc={'figure.figsize': (15,10)})\n",
        "import random\n",
        "import os\n",
        "from sklearn.preprocessing import StandardScaler\n",
        "from sklearn.model_selection import train_test_split\n",
        "from sklearn.model_selection import GridSearchCV\n",
        "from keras.wrappers.scikit_learn import KerasClassifier\n",
        "from keras.models import Sequential\n",
        "from keras.layers import Dense, Activation, Dropout\n",
        "\n",
        "from numpy.random import seed\n",
        "from tensorflow.random import set_seed\n",
        "from sklearn.model_selection import train_test_split\n"
      ],
      "metadata": {
        "id": "k8qYhhkdO_b5"
      },
      "execution_count": null,
      "outputs": []
    },
    {
      "cell_type": "code",
      "source": [
        "from sklearn.model_selection import train_test_split\n",
        "from sklearn.linear_model import LogisticRegression\n",
        "from sklearn.metrics import confusion_matrix\n",
        "from sklearn.metrics import classification_report\n",
        "from sklearn.metrics import f1_score"
      ],
      "metadata": {
        "id": "EEhwe2tZEj4B"
      },
      "execution_count": null,
      "outputs": []
    },
    {
      "cell_type": "code",
      "source": [
        "from sklearn.naive_bayes import GaussianNB\n",
        "from sklearn.tree import DecisionTreeClassifier\n",
        "from sklearn.svm import SVC\n",
        "from sklearn.model_selection import StratifiedKFold, KFold"
      ],
      "metadata": {
        "id": "Dd16Qigxjs0c"
      },
      "execution_count": null,
      "outputs": []
    },
    {
      "cell_type": "code",
      "source": [
        "from tensorflow.keras.models import save_model"
      ],
      "metadata": {
        "id": "tZfZuuyxT6Bd"
      },
      "execution_count": null,
      "outputs": []
    },
    {
      "cell_type": "code",
      "source": [
        "# Input data files are available in the \"../input/\" directory.\n",
        "# For example, running this (by clicking run or pressing Shift+Enter) will list the files in the input directory\n",
        "print(os.listdir(\"../input\"))\n"
      ],
      "metadata": {
        "colab": {
          "base_uri": "https://localhost:8080/"
        },
        "id": "8e-n02QtRrEV",
        "outputId": "1878fd7f-4498-4075-edb7-800dffdfc570"
      },
      "execution_count": null,
      "outputs": [
        {
          "output_type": "stream",
          "name": "stdout",
          "text": [
            "['train-io.txt', 'test-i.txt', 'model.h5']\n"
          ]
        }
      ]
    },
    {
      "cell_type": "code",
      "source": [
        "# Load data as Pandas dataframe\n",
        "df = pd.read_csv('../input/train-io.txt', sep=\" \", header=None,\n",
        "                 names=['num_01', 'num_02', 'num_03', 'num_04', 'num_05',\n",
        "                        'num_06', 'num_07', 'num_08', 'num_09', 'num_10', 'label'])"
      ],
      "metadata": {
        "id": "4q9-CqfF2BcN"
      },
      "execution_count": null,
      "outputs": []
    },
    {
      "cell_type": "code",
      "source": [
        "df.head()"
      ],
      "metadata": {
        "colab": {
          "base_uri": "https://localhost:8080/",
          "height": 206
        },
        "id": "JO-WCK5HR2Iv",
        "outputId": "01ca44ab-7882-44e7-d7cd-4eecd874c5e1"
      },
      "execution_count": null,
      "outputs": [
        {
          "output_type": "execute_result",
          "data": {
            "text/plain": [
              "     num_01    num_02    num_03    num_04    num_05    num_06    num_07  \\\n",
              "0 -0.852507  1.666773  1.804535 -0.716671  1.453874 -2.127368 -1.122697   \n",
              "1 -2.457481  1.934705  1.687973 -0.135270  1.834924 -0.646744  0.317887   \n",
              "2 -3.254799  3.487586  3.333810 -0.104991 -0.522417 -3.673875 -3.931949   \n",
              "3 -3.204966  3.592170  4.498665 -0.117003  0.539003 -3.146038 -0.655503   \n",
              "4 -1.381102  0.748178  1.732860 -0.288241  0.539120 -1.916870 -1.419793   \n",
              "\n",
              "     num_08    num_09    num_10  label  \n",
              "0  0.177708  1.100541  1.124238      1  \n",
              "1 -1.934858  0.593166  0.432247      0  \n",
              "2  0.016380  1.955265  1.118143      1  \n",
              "3 -0.692667  0.796502  1.120190      0  \n",
              "4 -0.561423  0.936609  0.289147      1  "
            ],
            "text/html": [
              "\n",
              "  <div id=\"df-4b0aee66-55d3-4bfc-9daa-4cc2c3fe3ea8\">\n",
              "    <div class=\"colab-df-container\">\n",
              "      <div>\n",
              "<style scoped>\n",
              "    .dataframe tbody tr th:only-of-type {\n",
              "        vertical-align: middle;\n",
              "    }\n",
              "\n",
              "    .dataframe tbody tr th {\n",
              "        vertical-align: top;\n",
              "    }\n",
              "\n",
              "    .dataframe thead th {\n",
              "        text-align: right;\n",
              "    }\n",
              "</style>\n",
              "<table border=\"1\" class=\"dataframe\">\n",
              "  <thead>\n",
              "    <tr style=\"text-align: right;\">\n",
              "      <th></th>\n",
              "      <th>num_01</th>\n",
              "      <th>num_02</th>\n",
              "      <th>num_03</th>\n",
              "      <th>num_04</th>\n",
              "      <th>num_05</th>\n",
              "      <th>num_06</th>\n",
              "      <th>num_07</th>\n",
              "      <th>num_08</th>\n",
              "      <th>num_09</th>\n",
              "      <th>num_10</th>\n",
              "      <th>label</th>\n",
              "    </tr>\n",
              "  </thead>\n",
              "  <tbody>\n",
              "    <tr>\n",
              "      <th>0</th>\n",
              "      <td>-0.852507</td>\n",
              "      <td>1.666773</td>\n",
              "      <td>1.804535</td>\n",
              "      <td>-0.716671</td>\n",
              "      <td>1.453874</td>\n",
              "      <td>-2.127368</td>\n",
              "      <td>-1.122697</td>\n",
              "      <td>0.177708</td>\n",
              "      <td>1.100541</td>\n",
              "      <td>1.124238</td>\n",
              "      <td>1</td>\n",
              "    </tr>\n",
              "    <tr>\n",
              "      <th>1</th>\n",
              "      <td>-2.457481</td>\n",
              "      <td>1.934705</td>\n",
              "      <td>1.687973</td>\n",
              "      <td>-0.135270</td>\n",
              "      <td>1.834924</td>\n",
              "      <td>-0.646744</td>\n",
              "      <td>0.317887</td>\n",
              "      <td>-1.934858</td>\n",
              "      <td>0.593166</td>\n",
              "      <td>0.432247</td>\n",
              "      <td>0</td>\n",
              "    </tr>\n",
              "    <tr>\n",
              "      <th>2</th>\n",
              "      <td>-3.254799</td>\n",
              "      <td>3.487586</td>\n",
              "      <td>3.333810</td>\n",
              "      <td>-0.104991</td>\n",
              "      <td>-0.522417</td>\n",
              "      <td>-3.673875</td>\n",
              "      <td>-3.931949</td>\n",
              "      <td>0.016380</td>\n",
              "      <td>1.955265</td>\n",
              "      <td>1.118143</td>\n",
              "      <td>1</td>\n",
              "    </tr>\n",
              "    <tr>\n",
              "      <th>3</th>\n",
              "      <td>-3.204966</td>\n",
              "      <td>3.592170</td>\n",
              "      <td>4.498665</td>\n",
              "      <td>-0.117003</td>\n",
              "      <td>0.539003</td>\n",
              "      <td>-3.146038</td>\n",
              "      <td>-0.655503</td>\n",
              "      <td>-0.692667</td>\n",
              "      <td>0.796502</td>\n",
              "      <td>1.120190</td>\n",
              "      <td>0</td>\n",
              "    </tr>\n",
              "    <tr>\n",
              "      <th>4</th>\n",
              "      <td>-1.381102</td>\n",
              "      <td>0.748178</td>\n",
              "      <td>1.732860</td>\n",
              "      <td>-0.288241</td>\n",
              "      <td>0.539120</td>\n",
              "      <td>-1.916870</td>\n",
              "      <td>-1.419793</td>\n",
              "      <td>-0.561423</td>\n",
              "      <td>0.936609</td>\n",
              "      <td>0.289147</td>\n",
              "      <td>1</td>\n",
              "    </tr>\n",
              "  </tbody>\n",
              "</table>\n",
              "</div>\n",
              "      <button class=\"colab-df-convert\" onclick=\"convertToInteractive('df-4b0aee66-55d3-4bfc-9daa-4cc2c3fe3ea8')\"\n",
              "              title=\"Convert this dataframe to an interactive table.\"\n",
              "              style=\"display:none;\">\n",
              "        \n",
              "  <svg xmlns=\"http://www.w3.org/2000/svg\" height=\"24px\"viewBox=\"0 0 24 24\"\n",
              "       width=\"24px\">\n",
              "    <path d=\"M0 0h24v24H0V0z\" fill=\"none\"/>\n",
              "    <path d=\"M18.56 5.44l.94 2.06.94-2.06 2.06-.94-2.06-.94-.94-2.06-.94 2.06-2.06.94zm-11 1L8.5 8.5l.94-2.06 2.06-.94-2.06-.94L8.5 2.5l-.94 2.06-2.06.94zm10 10l.94 2.06.94-2.06 2.06-.94-2.06-.94-.94-2.06-.94 2.06-2.06.94z\"/><path d=\"M17.41 7.96l-1.37-1.37c-.4-.4-.92-.59-1.43-.59-.52 0-1.04.2-1.43.59L10.3 9.45l-7.72 7.72c-.78.78-.78 2.05 0 2.83L4 21.41c.39.39.9.59 1.41.59.51 0 1.02-.2 1.41-.59l7.78-7.78 2.81-2.81c.8-.78.8-2.07 0-2.86zM5.41 20L4 18.59l7.72-7.72 1.47 1.35L5.41 20z\"/>\n",
              "  </svg>\n",
              "      </button>\n",
              "      \n",
              "  <style>\n",
              "    .colab-df-container {\n",
              "      display:flex;\n",
              "      flex-wrap:wrap;\n",
              "      gap: 12px;\n",
              "    }\n",
              "\n",
              "    .colab-df-convert {\n",
              "      background-color: #E8F0FE;\n",
              "      border: none;\n",
              "      border-radius: 50%;\n",
              "      cursor: pointer;\n",
              "      display: none;\n",
              "      fill: #1967D2;\n",
              "      height: 32px;\n",
              "      padding: 0 0 0 0;\n",
              "      width: 32px;\n",
              "    }\n",
              "\n",
              "    .colab-df-convert:hover {\n",
              "      background-color: #E2EBFA;\n",
              "      box-shadow: 0px 1px 2px rgba(60, 64, 67, 0.3), 0px 1px 3px 1px rgba(60, 64, 67, 0.15);\n",
              "      fill: #174EA6;\n",
              "    }\n",
              "\n",
              "    [theme=dark] .colab-df-convert {\n",
              "      background-color: #3B4455;\n",
              "      fill: #D2E3FC;\n",
              "    }\n",
              "\n",
              "    [theme=dark] .colab-df-convert:hover {\n",
              "      background-color: #434B5C;\n",
              "      box-shadow: 0px 1px 3px 1px rgba(0, 0, 0, 0.15);\n",
              "      filter: drop-shadow(0px 1px 2px rgba(0, 0, 0, 0.3));\n",
              "      fill: #FFFFFF;\n",
              "    }\n",
              "  </style>\n",
              "\n",
              "      <script>\n",
              "        const buttonEl =\n",
              "          document.querySelector('#df-4b0aee66-55d3-4bfc-9daa-4cc2c3fe3ea8 button.colab-df-convert');\n",
              "        buttonEl.style.display =\n",
              "          google.colab.kernel.accessAllowed ? 'block' : 'none';\n",
              "\n",
              "        async function convertToInteractive(key) {\n",
              "          const element = document.querySelector('#df-4b0aee66-55d3-4bfc-9daa-4cc2c3fe3ea8');\n",
              "          const dataTable =\n",
              "            await google.colab.kernel.invokeFunction('convertToInteractive',\n",
              "                                                     [key], {});\n",
              "          if (!dataTable) return;\n",
              "\n",
              "          const docLinkHtml = 'Like what you see? Visit the ' +\n",
              "            '<a target=\"_blank\" href=https://colab.research.google.com/notebooks/data_table.ipynb>data table notebook</a>'\n",
              "            + ' to learn more about interactive tables.';\n",
              "          element.innerHTML = '';\n",
              "          dataTable['output_type'] = 'display_data';\n",
              "          await google.colab.output.renderOutput(dataTable, element);\n",
              "          const docLink = document.createElement('div');\n",
              "          docLink.innerHTML = docLinkHtml;\n",
              "          element.appendChild(docLink);\n",
              "        }\n",
              "      </script>\n",
              "    </div>\n",
              "  </div>\n",
              "  "
            ]
          },
          "metadata": {},
          "execution_count": 8
        }
      ]
    },
    {
      "cell_type": "code",
      "source": [
        "def display_all(df):\n",
        "    with pd.option_context(\"display.max_rows\", 1000, \"display.max_columns\", 1000): \n",
        "        display(df)\n",
        "\n",
        "        \n",
        "display_all(df.describe(include='all').T)"
      ],
      "metadata": {
        "colab": {
          "base_uri": "https://localhost:8080/",
          "height": 394
        },
        "id": "JgjUUTFCR_CZ",
        "outputId": "76aaa0c9-2d96-4cef-ecb8-90aa9b8a0684"
      },
      "execution_count": null,
      "outputs": [
        {
          "output_type": "display_data",
          "data": {
            "text/plain": [
              "           count      mean       std       min       25%       50%       75%  \\\n",
              "num_01  100000.0 -2.259926  1.005840 -6.073768 -2.953758 -2.258861 -1.564537   \n",
              "num_02  100000.0  2.445663  1.108057 -1.250762  1.655183  2.444047  3.238214   \n",
              "num_03  100000.0  2.874081  1.324896 -2.072370  1.951810  2.878329  3.800928   \n",
              "num_04  100000.0 -0.230782  0.478650 -2.073440 -0.563800 -0.232659  0.101010   \n",
              "num_05  100000.0  0.592157  0.949180 -2.821405 -0.060338  0.591340  1.245209   \n",
              "num_06  100000.0 -2.450873  1.194906 -6.810437 -3.273778 -2.453019 -1.625890   \n",
              "num_07  100000.0 -1.117645  1.152760 -5.033446 -1.921612 -1.115276 -0.313028   \n",
              "num_08  100000.0 -0.637249  0.634570 -2.860057 -1.082620 -0.637222 -0.191713   \n",
              "num_09  100000.0  0.972720  0.530816 -1.073676  0.606474  0.970453  1.343528   \n",
              "num_10  100000.0  0.689605  0.686217 -1.647074  0.212772  0.691525  1.168163   \n",
              "label   100000.0  0.507730  0.499943  0.000000  0.000000  1.000000  1.000000   \n",
              "\n",
              "             max  \n",
              "num_01  1.337427  \n",
              "num_02  5.997658  \n",
              "num_03  7.739980  \n",
              "num_04  1.494884  \n",
              "num_05  4.037723  \n",
              "num_06  1.994193  \n",
              "num_07  2.998529  \n",
              "num_08  1.521207  \n",
              "num_09  2.977788  \n",
              "num_10  3.240423  \n",
              "label   1.000000  "
            ],
            "text/html": [
              "\n",
              "  <div id=\"df-ea09dbcc-2fe7-431a-80fc-8935e5859063\">\n",
              "    <div class=\"colab-df-container\">\n",
              "      <div>\n",
              "<style scoped>\n",
              "    .dataframe tbody tr th:only-of-type {\n",
              "        vertical-align: middle;\n",
              "    }\n",
              "\n",
              "    .dataframe tbody tr th {\n",
              "        vertical-align: top;\n",
              "    }\n",
              "\n",
              "    .dataframe thead th {\n",
              "        text-align: right;\n",
              "    }\n",
              "</style>\n",
              "<table border=\"1\" class=\"dataframe\">\n",
              "  <thead>\n",
              "    <tr style=\"text-align: right;\">\n",
              "      <th></th>\n",
              "      <th>count</th>\n",
              "      <th>mean</th>\n",
              "      <th>std</th>\n",
              "      <th>min</th>\n",
              "      <th>25%</th>\n",
              "      <th>50%</th>\n",
              "      <th>75%</th>\n",
              "      <th>max</th>\n",
              "    </tr>\n",
              "  </thead>\n",
              "  <tbody>\n",
              "    <tr>\n",
              "      <th>num_01</th>\n",
              "      <td>100000.0</td>\n",
              "      <td>-2.259926</td>\n",
              "      <td>1.005840</td>\n",
              "      <td>-6.073768</td>\n",
              "      <td>-2.953758</td>\n",
              "      <td>-2.258861</td>\n",
              "      <td>-1.564537</td>\n",
              "      <td>1.337427</td>\n",
              "    </tr>\n",
              "    <tr>\n",
              "      <th>num_02</th>\n",
              "      <td>100000.0</td>\n",
              "      <td>2.445663</td>\n",
              "      <td>1.108057</td>\n",
              "      <td>-1.250762</td>\n",
              "      <td>1.655183</td>\n",
              "      <td>2.444047</td>\n",
              "      <td>3.238214</td>\n",
              "      <td>5.997658</td>\n",
              "    </tr>\n",
              "    <tr>\n",
              "      <th>num_03</th>\n",
              "      <td>100000.0</td>\n",
              "      <td>2.874081</td>\n",
              "      <td>1.324896</td>\n",
              "      <td>-2.072370</td>\n",
              "      <td>1.951810</td>\n",
              "      <td>2.878329</td>\n",
              "      <td>3.800928</td>\n",
              "      <td>7.739980</td>\n",
              "    </tr>\n",
              "    <tr>\n",
              "      <th>num_04</th>\n",
              "      <td>100000.0</td>\n",
              "      <td>-0.230782</td>\n",
              "      <td>0.478650</td>\n",
              "      <td>-2.073440</td>\n",
              "      <td>-0.563800</td>\n",
              "      <td>-0.232659</td>\n",
              "      <td>0.101010</td>\n",
              "      <td>1.494884</td>\n",
              "    </tr>\n",
              "    <tr>\n",
              "      <th>num_05</th>\n",
              "      <td>100000.0</td>\n",
              "      <td>0.592157</td>\n",
              "      <td>0.949180</td>\n",
              "      <td>-2.821405</td>\n",
              "      <td>-0.060338</td>\n",
              "      <td>0.591340</td>\n",
              "      <td>1.245209</td>\n",
              "      <td>4.037723</td>\n",
              "    </tr>\n",
              "    <tr>\n",
              "      <th>num_06</th>\n",
              "      <td>100000.0</td>\n",
              "      <td>-2.450873</td>\n",
              "      <td>1.194906</td>\n",
              "      <td>-6.810437</td>\n",
              "      <td>-3.273778</td>\n",
              "      <td>-2.453019</td>\n",
              "      <td>-1.625890</td>\n",
              "      <td>1.994193</td>\n",
              "    </tr>\n",
              "    <tr>\n",
              "      <th>num_07</th>\n",
              "      <td>100000.0</td>\n",
              "      <td>-1.117645</td>\n",
              "      <td>1.152760</td>\n",
              "      <td>-5.033446</td>\n",
              "      <td>-1.921612</td>\n",
              "      <td>-1.115276</td>\n",
              "      <td>-0.313028</td>\n",
              "      <td>2.998529</td>\n",
              "    </tr>\n",
              "    <tr>\n",
              "      <th>num_08</th>\n",
              "      <td>100000.0</td>\n",
              "      <td>-0.637249</td>\n",
              "      <td>0.634570</td>\n",
              "      <td>-2.860057</td>\n",
              "      <td>-1.082620</td>\n",
              "      <td>-0.637222</td>\n",
              "      <td>-0.191713</td>\n",
              "      <td>1.521207</td>\n",
              "    </tr>\n",
              "    <tr>\n",
              "      <th>num_09</th>\n",
              "      <td>100000.0</td>\n",
              "      <td>0.972720</td>\n",
              "      <td>0.530816</td>\n",
              "      <td>-1.073676</td>\n",
              "      <td>0.606474</td>\n",
              "      <td>0.970453</td>\n",
              "      <td>1.343528</td>\n",
              "      <td>2.977788</td>\n",
              "    </tr>\n",
              "    <tr>\n",
              "      <th>num_10</th>\n",
              "      <td>100000.0</td>\n",
              "      <td>0.689605</td>\n",
              "      <td>0.686217</td>\n",
              "      <td>-1.647074</td>\n",
              "      <td>0.212772</td>\n",
              "      <td>0.691525</td>\n",
              "      <td>1.168163</td>\n",
              "      <td>3.240423</td>\n",
              "    </tr>\n",
              "    <tr>\n",
              "      <th>label</th>\n",
              "      <td>100000.0</td>\n",
              "      <td>0.507730</td>\n",
              "      <td>0.499943</td>\n",
              "      <td>0.000000</td>\n",
              "      <td>0.000000</td>\n",
              "      <td>1.000000</td>\n",
              "      <td>1.000000</td>\n",
              "      <td>1.000000</td>\n",
              "    </tr>\n",
              "  </tbody>\n",
              "</table>\n",
              "</div>\n",
              "      <button class=\"colab-df-convert\" onclick=\"convertToInteractive('df-ea09dbcc-2fe7-431a-80fc-8935e5859063')\"\n",
              "              title=\"Convert this dataframe to an interactive table.\"\n",
              "              style=\"display:none;\">\n",
              "        \n",
              "  <svg xmlns=\"http://www.w3.org/2000/svg\" height=\"24px\"viewBox=\"0 0 24 24\"\n",
              "       width=\"24px\">\n",
              "    <path d=\"M0 0h24v24H0V0z\" fill=\"none\"/>\n",
              "    <path d=\"M18.56 5.44l.94 2.06.94-2.06 2.06-.94-2.06-.94-.94-2.06-.94 2.06-2.06.94zm-11 1L8.5 8.5l.94-2.06 2.06-.94-2.06-.94L8.5 2.5l-.94 2.06-2.06.94zm10 10l.94 2.06.94-2.06 2.06-.94-2.06-.94-.94-2.06-.94 2.06-2.06.94z\"/><path d=\"M17.41 7.96l-1.37-1.37c-.4-.4-.92-.59-1.43-.59-.52 0-1.04.2-1.43.59L10.3 9.45l-7.72 7.72c-.78.78-.78 2.05 0 2.83L4 21.41c.39.39.9.59 1.41.59.51 0 1.02-.2 1.41-.59l7.78-7.78 2.81-2.81c.8-.78.8-2.07 0-2.86zM5.41 20L4 18.59l7.72-7.72 1.47 1.35L5.41 20z\"/>\n",
              "  </svg>\n",
              "      </button>\n",
              "      \n",
              "  <style>\n",
              "    .colab-df-container {\n",
              "      display:flex;\n",
              "      flex-wrap:wrap;\n",
              "      gap: 12px;\n",
              "    }\n",
              "\n",
              "    .colab-df-convert {\n",
              "      background-color: #E8F0FE;\n",
              "      border: none;\n",
              "      border-radius: 50%;\n",
              "      cursor: pointer;\n",
              "      display: none;\n",
              "      fill: #1967D2;\n",
              "      height: 32px;\n",
              "      padding: 0 0 0 0;\n",
              "      width: 32px;\n",
              "    }\n",
              "\n",
              "    .colab-df-convert:hover {\n",
              "      background-color: #E2EBFA;\n",
              "      box-shadow: 0px 1px 2px rgba(60, 64, 67, 0.3), 0px 1px 3px 1px rgba(60, 64, 67, 0.15);\n",
              "      fill: #174EA6;\n",
              "    }\n",
              "\n",
              "    [theme=dark] .colab-df-convert {\n",
              "      background-color: #3B4455;\n",
              "      fill: #D2E3FC;\n",
              "    }\n",
              "\n",
              "    [theme=dark] .colab-df-convert:hover {\n",
              "      background-color: #434B5C;\n",
              "      box-shadow: 0px 1px 3px 1px rgba(0, 0, 0, 0.15);\n",
              "      filter: drop-shadow(0px 1px 2px rgba(0, 0, 0, 0.3));\n",
              "      fill: #FFFFFF;\n",
              "    }\n",
              "  </style>\n",
              "\n",
              "      <script>\n",
              "        const buttonEl =\n",
              "          document.querySelector('#df-ea09dbcc-2fe7-431a-80fc-8935e5859063 button.colab-df-convert');\n",
              "        buttonEl.style.display =\n",
              "          google.colab.kernel.accessAllowed ? 'block' : 'none';\n",
              "\n",
              "        async function convertToInteractive(key) {\n",
              "          const element = document.querySelector('#df-ea09dbcc-2fe7-431a-80fc-8935e5859063');\n",
              "          const dataTable =\n",
              "            await google.colab.kernel.invokeFunction('convertToInteractive',\n",
              "                                                     [key], {});\n",
              "          if (!dataTable) return;\n",
              "\n",
              "          const docLinkHtml = 'Like what you see? Visit the ' +\n",
              "            '<a target=\"_blank\" href=https://colab.research.google.com/notebooks/data_table.ipynb>data table notebook</a>'\n",
              "            + ' to learn more about interactive tables.';\n",
              "          element.innerHTML = '';\n",
              "          dataTable['output_type'] = 'display_data';\n",
              "          await google.colab.output.renderOutput(dataTable, element);\n",
              "          const docLink = document.createElement('div');\n",
              "          docLink.innerHTML = docLinkHtml;\n",
              "          element.appendChild(docLink);\n",
              "        }\n",
              "      </script>\n",
              "    </div>\n",
              "  </div>\n",
              "  "
            ]
          },
          "metadata": {}
        }
      ]
    },
    {
      "cell_type": "markdown",
      "source": [
        "# 2. Preprocessing"
      ],
      "metadata": {
        "id": "eHsVVBce5pLw"
      }
    },
    {
      "cell_type": "markdown",
      "source": [
        "Rescale the numbers using the standard scaler from SKLearn"
      ],
      "metadata": {
        "id": "7XUI5fu552Nt"
      }
    },
    {
      "cell_type": "code",
      "source": [
        "continuous = ['num_01', 'num_02', 'num_03', 'num_04', 'num_05','num_06', 'num_07', 'num_08', 'num_09', 'num_10']\n",
        "\n",
        "scaler = StandardScaler()\n",
        "\n",
        "for var in continuous:\n",
        "    df[var] = df[var].astype('float64')\n",
        "    df[var] = scaler.fit_transform(df[var].values.reshape(-1, 1))"
      ],
      "metadata": {
        "id": "ozH9zYwoT4SC"
      },
      "execution_count": null,
      "outputs": []
    },
    {
      "cell_type": "code",
      "source": [
        "display_all(df.describe(include='all').T)"
      ],
      "metadata": {
        "colab": {
          "base_uri": "https://localhost:8080/",
          "height": 394
        },
        "id": "5tzPv0GuT60d",
        "outputId": "807bc69a-81b7-4af5-c971-3d54e7f7b69b"
      },
      "execution_count": null,
      "outputs": [
        {
          "output_type": "display_data",
          "data": {
            "text/plain": [
              "           count          mean       std       min       25%       50%  \\\n",
              "num_01  100000.0 -8.855139e-18  1.000005 -3.791718 -0.689807  0.001059   \n",
              "num_02  100000.0 -1.097078e-16  1.000005 -3.335969 -0.713396 -0.001458   \n",
              "num_03  100000.0  2.216538e-16  1.000005 -3.733484 -0.696112  0.003207   \n",
              "num_04  100000.0 -3.510081e-17  1.000005 -3.849718 -0.695748 -0.003923   \n",
              "num_05  100000.0 -4.021672e-17  1.000005 -3.596346 -0.687433 -0.000861   \n",
              "num_06  100000.0 -1.440270e-16  1.000005 -3.648476 -0.688681 -0.001796   \n",
              "num_07  100000.0  5.684342e-17  1.000005 -3.396909 -0.697431  0.002055   \n",
              "num_08  100000.0 -1.926992e-16  1.000005 -3.502873 -0.701850  0.000042   \n",
              "num_09  100000.0  3.959499e-17  1.000005 -3.855209 -0.689971 -0.004271   \n",
              "num_10  100000.0  1.072209e-16  1.000005 -3.405179 -0.694876  0.002797   \n",
              "label   100000.0  5.077300e-01  0.499943  0.000000  0.000000  1.000000   \n",
              "\n",
              "             75%       max  \n",
              "num_01  0.691355  3.576484  \n",
              "num_02  0.715266  3.205623  \n",
              "num_03  0.699566  3.672684  \n",
              "num_04  0.693185  3.605293  \n",
              "num_05  0.688020  3.630063  \n",
              "num_06  0.690420  3.720031  \n",
              "num_07  0.697995  3.570731  \n",
              "num_08  0.702110  3.401463  \n",
              "num_09  0.698567  3.777350  \n",
              "num_10  0.697389  3.717238  \n",
              "label   1.000000  1.000000  "
            ],
            "text/html": [
              "\n",
              "  <div id=\"df-3ee4d8d3-4bd0-4ede-80e6-cab7c0e0ba0e\">\n",
              "    <div class=\"colab-df-container\">\n",
              "      <div>\n",
              "<style scoped>\n",
              "    .dataframe tbody tr th:only-of-type {\n",
              "        vertical-align: middle;\n",
              "    }\n",
              "\n",
              "    .dataframe tbody tr th {\n",
              "        vertical-align: top;\n",
              "    }\n",
              "\n",
              "    .dataframe thead th {\n",
              "        text-align: right;\n",
              "    }\n",
              "</style>\n",
              "<table border=\"1\" class=\"dataframe\">\n",
              "  <thead>\n",
              "    <tr style=\"text-align: right;\">\n",
              "      <th></th>\n",
              "      <th>count</th>\n",
              "      <th>mean</th>\n",
              "      <th>std</th>\n",
              "      <th>min</th>\n",
              "      <th>25%</th>\n",
              "      <th>50%</th>\n",
              "      <th>75%</th>\n",
              "      <th>max</th>\n",
              "    </tr>\n",
              "  </thead>\n",
              "  <tbody>\n",
              "    <tr>\n",
              "      <th>num_01</th>\n",
              "      <td>100000.0</td>\n",
              "      <td>-8.855139e-18</td>\n",
              "      <td>1.000005</td>\n",
              "      <td>-3.791718</td>\n",
              "      <td>-0.689807</td>\n",
              "      <td>0.001059</td>\n",
              "      <td>0.691355</td>\n",
              "      <td>3.576484</td>\n",
              "    </tr>\n",
              "    <tr>\n",
              "      <th>num_02</th>\n",
              "      <td>100000.0</td>\n",
              "      <td>-1.097078e-16</td>\n",
              "      <td>1.000005</td>\n",
              "      <td>-3.335969</td>\n",
              "      <td>-0.713396</td>\n",
              "      <td>-0.001458</td>\n",
              "      <td>0.715266</td>\n",
              "      <td>3.205623</td>\n",
              "    </tr>\n",
              "    <tr>\n",
              "      <th>num_03</th>\n",
              "      <td>100000.0</td>\n",
              "      <td>2.216538e-16</td>\n",
              "      <td>1.000005</td>\n",
              "      <td>-3.733484</td>\n",
              "      <td>-0.696112</td>\n",
              "      <td>0.003207</td>\n",
              "      <td>0.699566</td>\n",
              "      <td>3.672684</td>\n",
              "    </tr>\n",
              "    <tr>\n",
              "      <th>num_04</th>\n",
              "      <td>100000.0</td>\n",
              "      <td>-3.510081e-17</td>\n",
              "      <td>1.000005</td>\n",
              "      <td>-3.849718</td>\n",
              "      <td>-0.695748</td>\n",
              "      <td>-0.003923</td>\n",
              "      <td>0.693185</td>\n",
              "      <td>3.605293</td>\n",
              "    </tr>\n",
              "    <tr>\n",
              "      <th>num_05</th>\n",
              "      <td>100000.0</td>\n",
              "      <td>-4.021672e-17</td>\n",
              "      <td>1.000005</td>\n",
              "      <td>-3.596346</td>\n",
              "      <td>-0.687433</td>\n",
              "      <td>-0.000861</td>\n",
              "      <td>0.688020</td>\n",
              "      <td>3.630063</td>\n",
              "    </tr>\n",
              "    <tr>\n",
              "      <th>num_06</th>\n",
              "      <td>100000.0</td>\n",
              "      <td>-1.440270e-16</td>\n",
              "      <td>1.000005</td>\n",
              "      <td>-3.648476</td>\n",
              "      <td>-0.688681</td>\n",
              "      <td>-0.001796</td>\n",
              "      <td>0.690420</td>\n",
              "      <td>3.720031</td>\n",
              "    </tr>\n",
              "    <tr>\n",
              "      <th>num_07</th>\n",
              "      <td>100000.0</td>\n",
              "      <td>5.684342e-17</td>\n",
              "      <td>1.000005</td>\n",
              "      <td>-3.396909</td>\n",
              "      <td>-0.697431</td>\n",
              "      <td>0.002055</td>\n",
              "      <td>0.697995</td>\n",
              "      <td>3.570731</td>\n",
              "    </tr>\n",
              "    <tr>\n",
              "      <th>num_08</th>\n",
              "      <td>100000.0</td>\n",
              "      <td>-1.926992e-16</td>\n",
              "      <td>1.000005</td>\n",
              "      <td>-3.502873</td>\n",
              "      <td>-0.701850</td>\n",
              "      <td>0.000042</td>\n",
              "      <td>0.702110</td>\n",
              "      <td>3.401463</td>\n",
              "    </tr>\n",
              "    <tr>\n",
              "      <th>num_09</th>\n",
              "      <td>100000.0</td>\n",
              "      <td>3.959499e-17</td>\n",
              "      <td>1.000005</td>\n",
              "      <td>-3.855209</td>\n",
              "      <td>-0.689971</td>\n",
              "      <td>-0.004271</td>\n",
              "      <td>0.698567</td>\n",
              "      <td>3.777350</td>\n",
              "    </tr>\n",
              "    <tr>\n",
              "      <th>num_10</th>\n",
              "      <td>100000.0</td>\n",
              "      <td>1.072209e-16</td>\n",
              "      <td>1.000005</td>\n",
              "      <td>-3.405179</td>\n",
              "      <td>-0.694876</td>\n",
              "      <td>0.002797</td>\n",
              "      <td>0.697389</td>\n",
              "      <td>3.717238</td>\n",
              "    </tr>\n",
              "    <tr>\n",
              "      <th>label</th>\n",
              "      <td>100000.0</td>\n",
              "      <td>5.077300e-01</td>\n",
              "      <td>0.499943</td>\n",
              "      <td>0.000000</td>\n",
              "      <td>0.000000</td>\n",
              "      <td>1.000000</td>\n",
              "      <td>1.000000</td>\n",
              "      <td>1.000000</td>\n",
              "    </tr>\n",
              "  </tbody>\n",
              "</table>\n",
              "</div>\n",
              "      <button class=\"colab-df-convert\" onclick=\"convertToInteractive('df-3ee4d8d3-4bd0-4ede-80e6-cab7c0e0ba0e')\"\n",
              "              title=\"Convert this dataframe to an interactive table.\"\n",
              "              style=\"display:none;\">\n",
              "        \n",
              "  <svg xmlns=\"http://www.w3.org/2000/svg\" height=\"24px\"viewBox=\"0 0 24 24\"\n",
              "       width=\"24px\">\n",
              "    <path d=\"M0 0h24v24H0V0z\" fill=\"none\"/>\n",
              "    <path d=\"M18.56 5.44l.94 2.06.94-2.06 2.06-.94-2.06-.94-.94-2.06-.94 2.06-2.06.94zm-11 1L8.5 8.5l.94-2.06 2.06-.94-2.06-.94L8.5 2.5l-.94 2.06-2.06.94zm10 10l.94 2.06.94-2.06 2.06-.94-2.06-.94-.94-2.06-.94 2.06-2.06.94z\"/><path d=\"M17.41 7.96l-1.37-1.37c-.4-.4-.92-.59-1.43-.59-.52 0-1.04.2-1.43.59L10.3 9.45l-7.72 7.72c-.78.78-.78 2.05 0 2.83L4 21.41c.39.39.9.59 1.41.59.51 0 1.02-.2 1.41-.59l7.78-7.78 2.81-2.81c.8-.78.8-2.07 0-2.86zM5.41 20L4 18.59l7.72-7.72 1.47 1.35L5.41 20z\"/>\n",
              "  </svg>\n",
              "      </button>\n",
              "      \n",
              "  <style>\n",
              "    .colab-df-container {\n",
              "      display:flex;\n",
              "      flex-wrap:wrap;\n",
              "      gap: 12px;\n",
              "    }\n",
              "\n",
              "    .colab-df-convert {\n",
              "      background-color: #E8F0FE;\n",
              "      border: none;\n",
              "      border-radius: 50%;\n",
              "      cursor: pointer;\n",
              "      display: none;\n",
              "      fill: #1967D2;\n",
              "      height: 32px;\n",
              "      padding: 0 0 0 0;\n",
              "      width: 32px;\n",
              "    }\n",
              "\n",
              "    .colab-df-convert:hover {\n",
              "      background-color: #E2EBFA;\n",
              "      box-shadow: 0px 1px 2px rgba(60, 64, 67, 0.3), 0px 1px 3px 1px rgba(60, 64, 67, 0.15);\n",
              "      fill: #174EA6;\n",
              "    }\n",
              "\n",
              "    [theme=dark] .colab-df-convert {\n",
              "      background-color: #3B4455;\n",
              "      fill: #D2E3FC;\n",
              "    }\n",
              "\n",
              "    [theme=dark] .colab-df-convert:hover {\n",
              "      background-color: #434B5C;\n",
              "      box-shadow: 0px 1px 3px 1px rgba(0, 0, 0, 0.15);\n",
              "      filter: drop-shadow(0px 1px 2px rgba(0, 0, 0, 0.3));\n",
              "      fill: #FFFFFF;\n",
              "    }\n",
              "  </style>\n",
              "\n",
              "      <script>\n",
              "        const buttonEl =\n",
              "          document.querySelector('#df-3ee4d8d3-4bd0-4ede-80e6-cab7c0e0ba0e button.colab-df-convert');\n",
              "        buttonEl.style.display =\n",
              "          google.colab.kernel.accessAllowed ? 'block' : 'none';\n",
              "\n",
              "        async function convertToInteractive(key) {\n",
              "          const element = document.querySelector('#df-3ee4d8d3-4bd0-4ede-80e6-cab7c0e0ba0e');\n",
              "          const dataTable =\n",
              "            await google.colab.kernel.invokeFunction('convertToInteractive',\n",
              "                                                     [key], {});\n",
              "          if (!dataTable) return;\n",
              "\n",
              "          const docLinkHtml = 'Like what you see? Visit the ' +\n",
              "            '<a target=\"_blank\" href=https://colab.research.google.com/notebooks/data_table.ipynb>data table notebook</a>'\n",
              "            + ' to learn more about interactive tables.';\n",
              "          element.innerHTML = '';\n",
              "          dataTable['output_type'] = 'display_data';\n",
              "          await google.colab.output.renderOutput(dataTable, element);\n",
              "          const docLink = document.createElement('div');\n",
              "          docLink.innerHTML = docLinkHtml;\n",
              "          element.appendChild(docLink);\n",
              "        }\n",
              "      </script>\n",
              "    </div>\n",
              "  </div>\n",
              "  "
            ]
          },
          "metadata": {}
        }
      ]
    },
    {
      "cell_type": "markdown",
      "source": [
        "Make a train-test split."
      ],
      "metadata": {
        "id": "fs5syEsx6QRz"
      }
    },
    {
      "cell_type": "code",
      "source": [
        "X=df[['num_01', 'num_02', 'num_03', 'num_04', 'num_05','num_06', 'num_07', 'num_08', 'num_09', 'num_10']]\n",
        "y=df['label']\n",
        "  \n",
        "# using the train test split function\n",
        "X_train, X_test, y_train, y_test = train_test_split(X,y ,\n",
        "                                   random_state=42, \n",
        "                                   test_size=0.25, \n",
        "                                   shuffle=True)\n",
        "  \n",
        "# printing out train and test sets\n",
        "  \n",
        "print('X_train : ')\n",
        "print(X_train.head())\n",
        "print('')\n",
        "print('X_test : ')\n",
        "print(X_test.head())\n",
        "print('')\n",
        "print('y_train : ')\n",
        "print(y_train.head())\n",
        "print('')\n",
        "print('y_test : ')\n",
        "print(y_test.head())"
      ],
      "metadata": {
        "colab": {
          "base_uri": "https://localhost:8080/"
        },
        "id": "BuHaGrWAJn04",
        "outputId": "d6fc16cd-55a9-44fe-a0f0-c88ad40f6763"
      },
      "execution_count": null,
      "outputs": [
        {
          "output_type": "stream",
          "name": "stdout",
          "text": [
            "X_train : \n",
            "         num_01    num_02    num_03    num_04    num_05    num_06    num_07  \\\n",
            "98980  1.191595 -2.192368 -0.333857  0.617355  0.010250 -0.960373  0.058936   \n",
            "69824  0.489847 -0.693832 -0.308699  0.218039  0.277151  0.468261  0.778401   \n",
            "9928   0.567621  0.661593 -0.808196  1.293250 -2.073279 -1.271670 -2.226947   \n",
            "75599  1.153112 -2.475059  0.049792  0.920796 -0.705509 -0.595545  1.321443   \n",
            "95621 -0.888175  1.013693 -0.087555 -0.865296 -0.517852 -0.744144 -1.914060   \n",
            "\n",
            "         num_08    num_09    num_10  \n",
            "98980  0.805746  0.383228  0.057513  \n",
            "69824 -0.337044 -1.090647 -1.170822  \n",
            "9928  -0.482241  1.740340 -1.679616  \n",
            "75599 -0.848443 -1.392888 -1.674530  \n",
            "95621  0.546681  2.290893  1.626418  \n",
            "\n",
            "X_test : \n",
            "         num_01    num_02    num_03    num_04    num_05    num_06    num_07  \\\n",
            "75721 -1.110732  0.909671 -0.382519  0.367877 -1.071533  1.257043 -0.732816   \n",
            "80184  1.581756  0.352322 -1.542950 -0.115110  0.917856  1.350713  0.700714   \n",
            "19864 -1.266550  0.497932  1.872731 -0.919516 -0.780669 -0.795630  1.160835   \n",
            "76699  0.237527 -0.555251  0.977402  1.112833 -0.721125 -0.744767  0.179859   \n",
            "92991 -0.142589 -0.498934 -0.148956  0.039250  1.154649  1.390860  2.090723   \n",
            "\n",
            "         num_08    num_09    num_10  \n",
            "75721 -0.628859  0.113531 -0.032254  \n",
            "80184  0.765162 -1.265925 -1.125145  \n",
            "19864 -0.420840 -0.951446 -0.277150  \n",
            "76699  1.556587 -1.277393 -0.464328  \n",
            "92991 -0.399721 -1.708687 -0.411541  \n",
            "\n",
            "y_train : \n",
            "98980    1\n",
            "69824    0\n",
            "9928     1\n",
            "75599    0\n",
            "95621    1\n",
            "Name: label, dtype: int64\n",
            "\n",
            "y_test : \n",
            "75721    1\n",
            "80184    0\n",
            "19864    1\n",
            "76699    0\n",
            "92991    1\n",
            "Name: label, dtype: int64\n"
          ]
        }
      ]
    },
    {
      "cell_type": "markdown",
      "source": [
        "## 3. Random Model\n"
      ],
      "metadata": {
        "id": "kZW85Jdb609e"
      }
    },
    {
      "cell_type": "markdown",
      "source": [
        "Build a model that randomly assigns a 0 or a 1 to a given number."
      ],
      "metadata": {
        "id": "x51uJpGz654S"
      }
    },
    {
      "cell_type": "code",
      "source": [
        "random_model = df\n",
        "random_model['prediction'] = [random.randrange(2) for i in range(df.shape[0])]"
      ],
      "metadata": {
        "id": "BNrJYVLX65Ri"
      },
      "execution_count": null,
      "outputs": []
    },
    {
      "cell_type": "code",
      "source": [
        "random_model.head(10)"
      ],
      "metadata": {
        "colab": {
          "base_uri": "https://localhost:8080/",
          "height": 363
        },
        "id": "FFEhP80gCZxp",
        "outputId": "119d64ba-81e7-4834-e0bd-c79189cb3931"
      },
      "execution_count": null,
      "outputs": [
        {
          "output_type": "execute_result",
          "data": {
            "text/plain": [
              "     num_01    num_02    num_03    num_04    num_05    num_06    num_07  \\\n",
              "0  1.399255 -0.702936 -0.807272 -1.015129  0.907858  0.270738 -0.004382   \n",
              "1 -0.196409 -0.461132 -0.895251  0.199545  1.309312  1.509857  1.245306   \n",
              "2 -0.989101  0.940321  0.346994  0.262804 -1.174255 -1.023518 -2.441374   \n",
              "3 -0.939558  1.034706  1.226203  0.237708 -0.056000 -0.581776  0.400902   \n",
              "4  0.873726 -1.531955 -0.861371 -0.120046 -0.055877  0.446902 -0.262110   \n",
              "5  2.356699 -0.840430 -1.841954  0.644387 -0.247439 -1.091114 -0.914751   \n",
              "6  0.009854  0.217855 -0.557266  0.352125 -1.795845 -0.372473 -0.839014   \n",
              "7 -1.804245  0.416689  1.246839 -0.577911  0.298218 -0.481386  0.116290   \n",
              "8  0.780843 -1.274101  0.476748  0.080330 -0.162740 -0.556241  1.554669   \n",
              "9 -0.968113  0.986541  0.479241 -1.332778  0.273202  0.037415 -1.214840   \n",
              "\n",
              "     num_08    num_09    num_10  label  prediction  \n",
              "0  1.284272  0.240802  0.633378      1           1  \n",
              "1 -2.044873 -0.715042 -0.375042      0           1  \n",
              "2  1.030039  1.851018  0.624497      1           0  \n",
              "3 -0.087332 -0.331978  0.627480      0           0  \n",
              "4  0.119492 -0.068029 -0.583577      1           1  \n",
              "5  0.326168  1.261114 -2.001532      1           0  \n",
              "6 -1.679701  1.047944 -1.947266      0           1  \n",
              "7 -0.939726  0.909438  1.245933      0           0  \n",
              "8 -0.175885 -1.109489 -0.570529      0           1  \n",
              "9  0.726079  1.289919  1.984208      0           1  "
            ],
            "text/html": [
              "\n",
              "  <div id=\"df-217c2aea-0ae6-4725-b048-7ba5e0f97e7b\">\n",
              "    <div class=\"colab-df-container\">\n",
              "      <div>\n",
              "<style scoped>\n",
              "    .dataframe tbody tr th:only-of-type {\n",
              "        vertical-align: middle;\n",
              "    }\n",
              "\n",
              "    .dataframe tbody tr th {\n",
              "        vertical-align: top;\n",
              "    }\n",
              "\n",
              "    .dataframe thead th {\n",
              "        text-align: right;\n",
              "    }\n",
              "</style>\n",
              "<table border=\"1\" class=\"dataframe\">\n",
              "  <thead>\n",
              "    <tr style=\"text-align: right;\">\n",
              "      <th></th>\n",
              "      <th>num_01</th>\n",
              "      <th>num_02</th>\n",
              "      <th>num_03</th>\n",
              "      <th>num_04</th>\n",
              "      <th>num_05</th>\n",
              "      <th>num_06</th>\n",
              "      <th>num_07</th>\n",
              "      <th>num_08</th>\n",
              "      <th>num_09</th>\n",
              "      <th>num_10</th>\n",
              "      <th>label</th>\n",
              "      <th>prediction</th>\n",
              "    </tr>\n",
              "  </thead>\n",
              "  <tbody>\n",
              "    <tr>\n",
              "      <th>0</th>\n",
              "      <td>1.399255</td>\n",
              "      <td>-0.702936</td>\n",
              "      <td>-0.807272</td>\n",
              "      <td>-1.015129</td>\n",
              "      <td>0.907858</td>\n",
              "      <td>0.270738</td>\n",
              "      <td>-0.004382</td>\n",
              "      <td>1.284272</td>\n",
              "      <td>0.240802</td>\n",
              "      <td>0.633378</td>\n",
              "      <td>1</td>\n",
              "      <td>1</td>\n",
              "    </tr>\n",
              "    <tr>\n",
              "      <th>1</th>\n",
              "      <td>-0.196409</td>\n",
              "      <td>-0.461132</td>\n",
              "      <td>-0.895251</td>\n",
              "      <td>0.199545</td>\n",
              "      <td>1.309312</td>\n",
              "      <td>1.509857</td>\n",
              "      <td>1.245306</td>\n",
              "      <td>-2.044873</td>\n",
              "      <td>-0.715042</td>\n",
              "      <td>-0.375042</td>\n",
              "      <td>0</td>\n",
              "      <td>1</td>\n",
              "    </tr>\n",
              "    <tr>\n",
              "      <th>2</th>\n",
              "      <td>-0.989101</td>\n",
              "      <td>0.940321</td>\n",
              "      <td>0.346994</td>\n",
              "      <td>0.262804</td>\n",
              "      <td>-1.174255</td>\n",
              "      <td>-1.023518</td>\n",
              "      <td>-2.441374</td>\n",
              "      <td>1.030039</td>\n",
              "      <td>1.851018</td>\n",
              "      <td>0.624497</td>\n",
              "      <td>1</td>\n",
              "      <td>0</td>\n",
              "    </tr>\n",
              "    <tr>\n",
              "      <th>3</th>\n",
              "      <td>-0.939558</td>\n",
              "      <td>1.034706</td>\n",
              "      <td>1.226203</td>\n",
              "      <td>0.237708</td>\n",
              "      <td>-0.056000</td>\n",
              "      <td>-0.581776</td>\n",
              "      <td>0.400902</td>\n",
              "      <td>-0.087332</td>\n",
              "      <td>-0.331978</td>\n",
              "      <td>0.627480</td>\n",
              "      <td>0</td>\n",
              "      <td>0</td>\n",
              "    </tr>\n",
              "    <tr>\n",
              "      <th>4</th>\n",
              "      <td>0.873726</td>\n",
              "      <td>-1.531955</td>\n",
              "      <td>-0.861371</td>\n",
              "      <td>-0.120046</td>\n",
              "      <td>-0.055877</td>\n",
              "      <td>0.446902</td>\n",
              "      <td>-0.262110</td>\n",
              "      <td>0.119492</td>\n",
              "      <td>-0.068029</td>\n",
              "      <td>-0.583577</td>\n",
              "      <td>1</td>\n",
              "      <td>1</td>\n",
              "    </tr>\n",
              "    <tr>\n",
              "      <th>5</th>\n",
              "      <td>2.356699</td>\n",
              "      <td>-0.840430</td>\n",
              "      <td>-1.841954</td>\n",
              "      <td>0.644387</td>\n",
              "      <td>-0.247439</td>\n",
              "      <td>-1.091114</td>\n",
              "      <td>-0.914751</td>\n",
              "      <td>0.326168</td>\n",
              "      <td>1.261114</td>\n",
              "      <td>-2.001532</td>\n",
              "      <td>1</td>\n",
              "      <td>0</td>\n",
              "    </tr>\n",
              "    <tr>\n",
              "      <th>6</th>\n",
              "      <td>0.009854</td>\n",
              "      <td>0.217855</td>\n",
              "      <td>-0.557266</td>\n",
              "      <td>0.352125</td>\n",
              "      <td>-1.795845</td>\n",
              "      <td>-0.372473</td>\n",
              "      <td>-0.839014</td>\n",
              "      <td>-1.679701</td>\n",
              "      <td>1.047944</td>\n",
              "      <td>-1.947266</td>\n",
              "      <td>0</td>\n",
              "      <td>1</td>\n",
              "    </tr>\n",
              "    <tr>\n",
              "      <th>7</th>\n",
              "      <td>-1.804245</td>\n",
              "      <td>0.416689</td>\n",
              "      <td>1.246839</td>\n",
              "      <td>-0.577911</td>\n",
              "      <td>0.298218</td>\n",
              "      <td>-0.481386</td>\n",
              "      <td>0.116290</td>\n",
              "      <td>-0.939726</td>\n",
              "      <td>0.909438</td>\n",
              "      <td>1.245933</td>\n",
              "      <td>0</td>\n",
              "      <td>0</td>\n",
              "    </tr>\n",
              "    <tr>\n",
              "      <th>8</th>\n",
              "      <td>0.780843</td>\n",
              "      <td>-1.274101</td>\n",
              "      <td>0.476748</td>\n",
              "      <td>0.080330</td>\n",
              "      <td>-0.162740</td>\n",
              "      <td>-0.556241</td>\n",
              "      <td>1.554669</td>\n",
              "      <td>-0.175885</td>\n",
              "      <td>-1.109489</td>\n",
              "      <td>-0.570529</td>\n",
              "      <td>0</td>\n",
              "      <td>1</td>\n",
              "    </tr>\n",
              "    <tr>\n",
              "      <th>9</th>\n",
              "      <td>-0.968113</td>\n",
              "      <td>0.986541</td>\n",
              "      <td>0.479241</td>\n",
              "      <td>-1.332778</td>\n",
              "      <td>0.273202</td>\n",
              "      <td>0.037415</td>\n",
              "      <td>-1.214840</td>\n",
              "      <td>0.726079</td>\n",
              "      <td>1.289919</td>\n",
              "      <td>1.984208</td>\n",
              "      <td>0</td>\n",
              "      <td>1</td>\n",
              "    </tr>\n",
              "  </tbody>\n",
              "</table>\n",
              "</div>\n",
              "      <button class=\"colab-df-convert\" onclick=\"convertToInteractive('df-217c2aea-0ae6-4725-b048-7ba5e0f97e7b')\"\n",
              "              title=\"Convert this dataframe to an interactive table.\"\n",
              "              style=\"display:none;\">\n",
              "        \n",
              "  <svg xmlns=\"http://www.w3.org/2000/svg\" height=\"24px\"viewBox=\"0 0 24 24\"\n",
              "       width=\"24px\">\n",
              "    <path d=\"M0 0h24v24H0V0z\" fill=\"none\"/>\n",
              "    <path d=\"M18.56 5.44l.94 2.06.94-2.06 2.06-.94-2.06-.94-.94-2.06-.94 2.06-2.06.94zm-11 1L8.5 8.5l.94-2.06 2.06-.94-2.06-.94L8.5 2.5l-.94 2.06-2.06.94zm10 10l.94 2.06.94-2.06 2.06-.94-2.06-.94-.94-2.06-.94 2.06-2.06.94z\"/><path d=\"M17.41 7.96l-1.37-1.37c-.4-.4-.92-.59-1.43-.59-.52 0-1.04.2-1.43.59L10.3 9.45l-7.72 7.72c-.78.78-.78 2.05 0 2.83L4 21.41c.39.39.9.59 1.41.59.51 0 1.02-.2 1.41-.59l7.78-7.78 2.81-2.81c.8-.78.8-2.07 0-2.86zM5.41 20L4 18.59l7.72-7.72 1.47 1.35L5.41 20z\"/>\n",
              "  </svg>\n",
              "      </button>\n",
              "      \n",
              "  <style>\n",
              "    .colab-df-container {\n",
              "      display:flex;\n",
              "      flex-wrap:wrap;\n",
              "      gap: 12px;\n",
              "    }\n",
              "\n",
              "    .colab-df-convert {\n",
              "      background-color: #E8F0FE;\n",
              "      border: none;\n",
              "      border-radius: 50%;\n",
              "      cursor: pointer;\n",
              "      display: none;\n",
              "      fill: #1967D2;\n",
              "      height: 32px;\n",
              "      padding: 0 0 0 0;\n",
              "      width: 32px;\n",
              "    }\n",
              "\n",
              "    .colab-df-convert:hover {\n",
              "      background-color: #E2EBFA;\n",
              "      box-shadow: 0px 1px 2px rgba(60, 64, 67, 0.3), 0px 1px 3px 1px rgba(60, 64, 67, 0.15);\n",
              "      fill: #174EA6;\n",
              "    }\n",
              "\n",
              "    [theme=dark] .colab-df-convert {\n",
              "      background-color: #3B4455;\n",
              "      fill: #D2E3FC;\n",
              "    }\n",
              "\n",
              "    [theme=dark] .colab-df-convert:hover {\n",
              "      background-color: #434B5C;\n",
              "      box-shadow: 0px 1px 3px 1px rgba(0, 0, 0, 0.15);\n",
              "      filter: drop-shadow(0px 1px 2px rgba(0, 0, 0, 0.3));\n",
              "      fill: #FFFFFF;\n",
              "    }\n",
              "  </style>\n",
              "\n",
              "      <script>\n",
              "        const buttonEl =\n",
              "          document.querySelector('#df-217c2aea-0ae6-4725-b048-7ba5e0f97e7b button.colab-df-convert');\n",
              "        buttonEl.style.display =\n",
              "          google.colab.kernel.accessAllowed ? 'block' : 'none';\n",
              "\n",
              "        async function convertToInteractive(key) {\n",
              "          const element = document.querySelector('#df-217c2aea-0ae6-4725-b048-7ba5e0f97e7b');\n",
              "          const dataTable =\n",
              "            await google.colab.kernel.invokeFunction('convertToInteractive',\n",
              "                                                     [key], {});\n",
              "          if (!dataTable) return;\n",
              "\n",
              "          const docLinkHtml = 'Like what you see? Visit the ' +\n",
              "            '<a target=\"_blank\" href=https://colab.research.google.com/notebooks/data_table.ipynb>data table notebook</a>'\n",
              "            + ' to learn more about interactive tables.';\n",
              "          element.innerHTML = '';\n",
              "          dataTable['output_type'] = 'display_data';\n",
              "          await google.colab.output.renderOutput(dataTable, element);\n",
              "          const docLink = document.createElement('div');\n",
              "          docLink.innerHTML = docLinkHtml;\n",
              "          element.appendChild(docLink);\n",
              "        }\n",
              "      </script>\n",
              "    </div>\n",
              "  </div>\n",
              "  "
            ]
          },
          "metadata": {},
          "execution_count": 14
        }
      ]
    },
    {
      "cell_type": "code",
      "source": [
        "random_model['align'] = np.where(random_model['label'] == random_model['prediction'], 1, 0)"
      ],
      "metadata": {
        "id": "JzUVSWQFGzOG"
      },
      "execution_count": null,
      "outputs": []
    },
    {
      "cell_type": "code",
      "source": [
        "random_accuracy = np.sum(random_model['align']) / df.shape[0]"
      ],
      "metadata": {
        "id": "bvEpsJ5JIuJV"
      },
      "execution_count": null,
      "outputs": []
    },
    {
      "cell_type": "code",
      "source": [
        "print('The accuracy of random guessing is: ' + str(random_accuracy))"
      ],
      "metadata": {
        "colab": {
          "base_uri": "https://localhost:8080/"
        },
        "id": "WeABAfUGCIZr",
        "outputId": "03a6f57a-ec6b-480f-be4e-e4d9b8507133"
      },
      "execution_count": null,
      "outputs": [
        {
          "output_type": "stream",
          "name": "stdout",
          "text": [
            "The accuracy of random guessing is: 0.50053\n"
          ]
        }
      ]
    },
    {
      "cell_type": "markdown",
      "source": [
        "## 4. Neural Network with Cross Validation"
      ],
      "metadata": {
        "id": "7C3fRFRhUILg"
      }
    },
    {
      "cell_type": "markdown",
      "source": [
        "### Create neural network model\n"
      ],
      "metadata": {
        "id": "l6lToqRJUK5P"
      }
    },
    {
      "cell_type": "code",
      "source": [
        "def create_model(lyrs=[256,128,64,32], act='linear', opt='Adam', dr=0.0):\n",
        "    \n",
        "    # set random seed for reproducibility\n",
        "    seed(42)\n",
        "    set_seed(42)\n",
        "    \n",
        "    model = Sequential()\n",
        "    \n",
        "    # create first hidden layer\n",
        "    model.add(Dense(lyrs[0], input_dim=X_train.shape[1], activation=act))\n",
        "    \n",
        "    # create additional hidden layers\n",
        "    for i in range(1,len(lyrs)):\n",
        "        model.add(Dense(lyrs[i], activation=act))\n",
        "    \n",
        "    # add dropout, default is none\n",
        "    model.add(Dropout(dr))\n",
        "    \n",
        "    # create output layer\n",
        "    model.add(Dense(1, activation='sigmoid'))  # output layer\n",
        "    \n",
        "    model.compile(loss='binary_crossentropy', optimizer=opt, metrics=['accuracy'])\n",
        "    \n",
        "    return model"
      ],
      "metadata": {
        "id": "bZsjxlSSUOMS"
      },
      "execution_count": 22,
      "outputs": []
    },
    {
      "cell_type": "code",
      "source": [
        "model = create_model(lyrs=[256,128,64,32,16], act='relu')\n",
        "print(model.summary())"
      ],
      "metadata": {
        "colab": {
          "base_uri": "https://localhost:8080/"
        },
        "id": "LlmwarmCUPsq",
        "outputId": "e1f81a43-266d-4a12-f904-0df852bb2c6d"
      },
      "execution_count": 26,
      "outputs": [
        {
          "output_type": "stream",
          "name": "stdout",
          "text": [
            "Model: \"sequential_2\"\n",
            "_________________________________________________________________\n",
            " Layer (type)                Output Shape              Param #   \n",
            "=================================================================\n",
            " dense_13 (Dense)            (None, 256)               2816      \n",
            "                                                                 \n",
            " dense_14 (Dense)            (None, 128)               32896     \n",
            "                                                                 \n",
            " dense_15 (Dense)            (None, 64)                8256      \n",
            "                                                                 \n",
            " dense_16 (Dense)            (None, 32)                2080      \n",
            "                                                                 \n",
            " dense_17 (Dense)            (None, 16)                528       \n",
            "                                                                 \n",
            " dropout_2 (Dropout)         (None, 16)                0         \n",
            "                                                                 \n",
            " dense_18 (Dense)            (None, 1)                 17        \n",
            "                                                                 \n",
            "=================================================================\n",
            "Total params: 46,593\n",
            "Trainable params: 46,593\n",
            "Non-trainable params: 0\n",
            "_________________________________________________________________\n",
            "None\n"
          ]
        }
      ]
    },
    {
      "cell_type": "markdown",
      "source": [
        "### Train model\n"
      ],
      "metadata": {
        "id": "_fXOR-f0URU7"
      }
    },
    {
      "cell_type": "code",
      "source": [
        "# train model on full train set, with 80/20 CV split\n",
        "training = model.fit(df[['num_01', 'num_02', 'num_03', 'num_04', 'num_05','num_06', 'num_07', 'num_08', 'num_09', 'num_10']], df['label'],\n",
        "                     epochs=250, batch_size=64, validation_split=0.2, verbose=2)\n",
        "val_acc = np.mean(training.history['val_accuracy'])\n",
        "print(\"\\n%s: %.2f%%\" % ('val_acc', val_acc*100))"
      ],
      "metadata": {
        "id": "ehw0uGxSUUCA"
      },
      "execution_count": null,
      "outputs": []
    },
    {
      "cell_type": "markdown",
      "source": [
        "### Assess results"
      ],
      "metadata": {
        "id": "g0Yxs278UV08"
      }
    },
    {
      "cell_type": "code",
      "source": [
        "# summarize history for accuracy\n",
        "plt.plot(training.history['accuracy'])\n",
        "plt.plot(training.history['val_accuracy'])\n",
        "plt.plot(training.history['loss'])\n",
        "plt.plot(training.history['val_loss'])\n",
        "plt.title('model accuracy & loss')\n",
        "plt.ylabel('accuracy / loss')\n",
        "plt.xlabel('epoch')\n",
        "plt.legend(['train accuracy', 'validation accuracy', 'train loss', 'validation loss'], loc='upper left')\n",
        "plt.show()"
      ],
      "metadata": {
        "colab": {
          "base_uri": "https://localhost:8080/",
          "height": 627
        },
        "id": "NMCj4D-XUYk8",
        "outputId": "fa5cc179-cebc-4c2e-dedc-acd6e49018ea"
      },
      "execution_count": 30,
      "outputs": [
        {
          "output_type": "display_data",
          "data": {
            "text/plain": [
              "<Figure size 1080x720 with 1 Axes>"
            ],
            "image/png": "[encoded data removed]"
          },
          "metadata": {}
        }
      ]
    },
    {
      "cell_type": "code",
      "source": [],
      "metadata": {
        "id": "RpxeBx5Gjw54"
      },
      "execution_count": null,
      "outputs": []
    },
    {
      "cell_type": "markdown",
      "source": [
        "## 4.2 Grid search\n",
        "### 4.2.1 batch size and epochs"
      ],
      "metadata": {
        "id": "E38PCCVlaCaR"
      }
    },
    {
      "cell_type": "code",
      "source": [
        "# create model\n",
        "model = KerasClassifier(build_fn=create_model, verbose=0)\n",
        "\n",
        "# define the grid search parameters\n",
        "batch_size = [16, 32]\n",
        "epochs = [10, 20]\n",
        "param_grid = dict(batch_size=batch_size, epochs=epochs)\n",
        "\n",
        "# search the grid\n",
        "grid = GridSearchCV(estimator=model, \n",
        "                    param_grid=param_grid,\n",
        "                    cv=3,\n",
        "                    verbose=2, n_jobs=-1)  # include n_jobs=-1 if you are using CPU\n",
        "\n",
        "grid_result = grid.fit(X_train, y_train)"
      ],
      "metadata": {
        "colab": {
          "base_uri": "https://localhost:8080/"
        },
        "id": "c0O2SCCAaDYe",
        "outputId": "5e497978-9893-48a3-bd80-afa970a8209f"
      },
      "execution_count": null,
      "outputs": [
        {
          "output_type": "stream",
          "name": "stdout",
          "text": [
            "Fitting 3 folds for each of 4 candidates, totalling 12 fits\n"
          ]
        },
        {
          "output_type": "stream",
          "name": "stderr",
          "text": [
            "/usr/local/lib/python3.7/dist-packages/ipykernel_launcher.py:2: DeprecationWarning: KerasClassifier is deprecated, use Sci-Keras (https://github.com/adriangb/scikeras) instead. See https://www.adriangb.com/scikeras/stable/migration.html for help migrating.\n",
            "  \n"
          ]
        }
      ]
    },
    {
      "cell_type": "code",
      "source": [
        "# summarize results\n",
        "print(\"Best: %f using %s\" % (grid_result.best_score_, grid_result.best_params_))\n",
        "means = grid_result.cv_results_['mean_test_score']\n",
        "stds = grid_result.cv_results_['std_test_score']\n",
        "params = grid_result.cv_results_['params']\n",
        "for mean, stdev, param in zip(means, stds, params):\n",
        "    print(\"%f (%f) with: %r\" % (mean, stdev, param))"
      ],
      "metadata": {
        "colab": {
          "base_uri": "https://localhost:8080/"
        },
        "id": "czwSSv7IaHfM",
        "outputId": "abcb99e2-2610-4b56-dc79-5c40ec61ca83"
      },
      "execution_count": null,
      "outputs": [
        {
          "output_type": "stream",
          "name": "stdout",
          "text": [
            "Best: 0.502720 using {'batch_size': 16, 'epochs': 10}\n",
            "0.502720 (0.004983) with: {'batch_size': 16, 'epochs': 10}\n",
            "0.499707 (0.001490) with: {'batch_size': 16, 'epochs': 20}\n",
            "0.502653 (0.004634) with: {'batch_size': 32, 'epochs': 10}\n",
            "0.500840 (0.000261) with: {'batch_size': 32, 'epochs': 20}\n"
          ]
        }
      ]
    },
    {
      "cell_type": "markdown",
      "source": [
        "### 4.2.2 Optimization Algorithm"
      ],
      "metadata": {
        "id": "CSF1lAaqEPAq"
      }
    },
    {
      "cell_type": "code",
      "source": [
        "# create model\n",
        "model = KerasClassifier(build_fn=create_model, epochs=10, batch_size=16, verbose=0)\n",
        "\n",
        "# define the grid search parameters\n",
        "optimizer = ['SGD', 'RMSprop', 'Adagrad', 'Adadelta', 'Adam', 'Nadam']\n",
        "param_grid = dict(opt=optimizer)\n",
        "\n",
        "# search the grid\n",
        "grid = GridSearchCV(estimator=model, param_grid=param_grid, verbose=2)\n",
        "grid_result = grid.fit(X_train, y_train)"
      ],
      "metadata": {
        "colab": {
          "base_uri": "https://localhost:8080/"
        },
        "id": "TkKv26igEOrA",
        "outputId": "e390471e-9f84-4972-eb51-67f897a6cf2f"
      },
      "execution_count": null,
      "outputs": [
        {
          "output_type": "stream",
          "name": "stderr",
          "text": [
            "/usr/local/lib/python3.7/dist-packages/ipykernel_launcher.py:2: DeprecationWarning: KerasClassifier is deprecated, use Sci-Keras (https://github.com/adriangb/scikeras) instead. See https://www.adriangb.com/scikeras/stable/migration.html for help migrating.\n",
            "  \n"
          ]
        },
        {
          "output_type": "stream",
          "name": "stdout",
          "text": [
            "Fitting 5 folds for each of 6 candidates, totalling 30 fits\n",
            "[CV] END ............................................opt=SGD; total time= 1.1min\n",
            "[CV] END ............................................opt=SGD; total time= 1.1min\n",
            "[CV] END ............................................opt=SGD; total time= 1.4min\n",
            "[CV] END ............................................opt=SGD; total time= 1.4min\n",
            "[CV] END ............................................opt=SGD; total time= 1.4min\n",
            "[CV] END ........................................opt=RMSprop; total time= 1.2min\n",
            "[CV] END ........................................opt=RMSprop; total time= 2.1min\n",
            "[CV] END ........................................opt=RMSprop; total time= 1.2min\n",
            "[CV] END ........................................opt=RMSprop; total time= 1.2min\n",
            "[CV] END ........................................opt=RMSprop; total time= 1.2min\n",
            "[CV] END ........................................opt=Adagrad; total time= 1.4min\n",
            "[CV] END ........................................opt=Adagrad; total time= 1.4min\n",
            "[CV] END ........................................opt=Adagrad; total time= 1.1min\n",
            "[CV] END ........................................opt=Adagrad; total time= 1.4min\n",
            "[CV] END ........................................opt=Adagrad; total time= 1.1min\n",
            "[CV] END .......................................opt=Adadelta; total time= 1.1min\n",
            "[CV] END .......................................opt=Adadelta; total time= 1.4min\n",
            "[CV] END .......................................opt=Adadelta; total time= 1.1min\n",
            "[CV] END .......................................opt=Adadelta; total time= 1.1min\n",
            "[CV] END .......................................opt=Adadelta; total time= 1.1min\n",
            "[CV] END ...........................................opt=Adam; total time= 1.4min\n",
            "[CV] END ...........................................opt=Adam; total time= 1.4min\n",
            "[CV] END ...........................................opt=Adam; total time= 1.1min\n",
            "[CV] END ...........................................opt=Adam; total time= 1.4min\n",
            "[CV] END ...........................................opt=Adam; total time= 1.1min\n",
            "[CV] END ..........................................opt=Nadam; total time= 2.4min\n",
            "[CV] END ..........................................opt=Nadam; total time= 1.4min\n",
            "[CV] END ..........................................opt=Nadam; total time= 2.4min\n",
            "[CV] END ..........................................opt=Nadam; total time= 1.4min\n",
            "[CV] END ..........................................opt=Nadam; total time= 1.4min\n"
          ]
        }
      ]
    },
    {
      "cell_type": "code",
      "source": [
        "# summarize results\n",
        "print(\"Best: %f using %s\" % (grid_result.best_score_, grid_result.best_params_))\n",
        "means = grid_result.cv_results_['mean_test_score']\n",
        "stds = grid_result.cv_results_['std_test_score']\n",
        "params = grid_result.cv_results_['params']\n",
        "for mean, stdev, param in zip(means, stds, params):\n",
        "    print(\"%f (%f) with: %r\" % (mean, stdev, param))"
      ],
      "metadata": {
        "colab": {
          "base_uri": "https://localhost:8080/"
        },
        "id": "rKpt9fPBESt7",
        "outputId": "7092381c-0e8a-4289-a512-714322724cf5"
      },
      "execution_count": null,
      "outputs": [
        {
          "output_type": "stream",
          "name": "stdout",
          "text": [
            "Best: 0.502213 using {'opt': 'Nadam'}\n",
            "0.501853 (0.004825) with: {'opt': 'SGD'}\n",
            "0.501827 (0.004739) with: {'opt': 'RMSprop'}\n",
            "0.499947 (0.006019) with: {'opt': 'Adagrad'}\n",
            "0.499333 (0.003911) with: {'opt': 'Adadelta'}\n",
            "0.501973 (0.005059) with: {'opt': 'Adam'}\n",
            "0.502213 (0.005296) with: {'opt': 'Nadam'}\n"
          ]
        }
      ]
    },
    {
      "cell_type": "markdown",
      "source": [
        "### 4.2.3 Hidden neurons"
      ],
      "metadata": {
        "id": "YMxcOu7lp6WQ"
      }
    },
    {
      "cell_type": "code",
      "source": [
        "seed(42)\n",
        "set_seed(42)\n",
        "\n",
        "# create model\n",
        "model = KerasClassifier(build_fn=create_model, \n",
        "                        epochs=10, batch_size=16, verbose=0)\n",
        "\n",
        "# define the grid search parameters\n",
        "layers = [[8],[10],[10,5],[12,6],[12,8,4]]\n",
        "param_grid = dict(lyrs=layers)\n",
        "\n",
        "# search the grid\n",
        "grid = GridSearchCV(estimator=model, param_grid=param_grid, verbose=2)\n",
        "grid_result = grid.fit(X_train, y_train)"
      ],
      "metadata": {
        "colab": {
          "base_uri": "https://localhost:8080/"
        },
        "id": "8YVFt_irp7D0",
        "outputId": "0d2ed849-bcd7-4bef-80a3-dc70c9641767"
      },
      "execution_count": null,
      "outputs": [
        {
          "output_type": "stream",
          "name": "stderr",
          "text": [
            "/usr/local/lib/python3.7/dist-packages/ipykernel_launcher.py:6: DeprecationWarning: KerasClassifier is deprecated, use Sci-Keras (https://github.com/adriangb/scikeras) instead. See https://www.adriangb.com/scikeras/stable/migration.html for help migrating.\n",
            "  \n"
          ]
        },
        {
          "output_type": "stream",
          "name": "stdout",
          "text": [
            "Fitting 5 folds for each of 5 candidates, totalling 25 fits\n",
            "[CV] END ...........................................lyrs=[8]; total time= 1.4min\n",
            "[CV] END ...........................................lyrs=[8]; total time= 1.4min\n",
            "[CV] END ...........................................lyrs=[8]; total time= 1.9min\n",
            "[CV] END ...........................................lyrs=[8]; total time= 1.1min\n",
            "[CV] END ...........................................lyrs=[8]; total time= 1.1min\n",
            "[CV] END ..........................................lyrs=[10]; total time= 1.1min\n",
            "[CV] END ..........................................lyrs=[10]; total time= 1.1min\n",
            "[CV] END ..........................................lyrs=[10]; total time= 1.4min\n",
            "[CV] END ..........................................lyrs=[10]; total time= 1.1min\n",
            "[CV] END ..........................................lyrs=[10]; total time= 1.0min\n",
            "[CV] END .......................................lyrs=[10, 5]; total time= 1.4min\n",
            "[CV] END .......................................lyrs=[10, 5]; total time= 1.1min\n",
            "[CV] END .......................................lyrs=[10, 5]; total time= 1.1min\n",
            "[CV] END .......................................lyrs=[10, 5]; total time= 1.4min\n",
            "[CV] END .......................................lyrs=[10, 5]; total time= 1.4min\n",
            "[CV] END .......................................lyrs=[12, 6]; total time= 1.1min\n",
            "[CV] END .......................................lyrs=[12, 6]; total time= 1.1min\n",
            "[CV] END .......................................lyrs=[12, 6]; total time= 1.1min\n",
            "[CV] END .......................................lyrs=[12, 6]; total time= 1.4min\n",
            "[CV] END .......................................lyrs=[12, 6]; total time= 1.4min\n",
            "[CV] END ....................................lyrs=[12, 8, 4]; total time= 1.2min\n",
            "[CV] END ....................................lyrs=[12, 8, 4]; total time= 1.4min\n",
            "[CV] END ....................................lyrs=[12, 8, 4]; total time= 1.4min\n",
            "[CV] END ....................................lyrs=[12, 8, 4]; total time= 1.4min\n",
            "[CV] END ....................................lyrs=[12, 8, 4]; total time= 1.4min\n"
          ]
        }
      ]
    },
    {
      "cell_type": "code",
      "source": [
        "# summarize results\n",
        "print(\"Best: %f using %s\" % (grid_result.best_score_, grid_result.best_params_))\n",
        "means = grid_result.cv_results_['mean_test_score']\n",
        "stds = grid_result.cv_results_['std_test_score']\n",
        "params = grid_result.cv_results_['params']\n",
        "for mean, stdev, param in zip(means, stds, params):\n",
        "    print(\"%f (%f) with: %r\" % (mean, stdev, param))"
      ],
      "metadata": {
        "colab": {
          "base_uri": "https://localhost:8080/"
        },
        "id": "bsV9KMk4p-Wb",
        "outputId": "e43d78cb-86d8-48fe-f70e-cfed9757e219"
      },
      "execution_count": null,
      "outputs": [
        {
          "output_type": "stream",
          "name": "stdout",
          "text": [
            "Best: 0.504520 using {'lyrs': [12, 8, 4]}\n",
            "0.501973 (0.005059) with: {'lyrs': [8]}\n",
            "0.502280 (0.004762) with: {'lyrs': [10]}\n",
            "0.502720 (0.004979) with: {'lyrs': [10, 5]}\n",
            "0.504427 (0.006097) with: {'lyrs': [12, 6]}\n",
            "0.504520 (0.004687) with: {'lyrs': [12, 8, 4]}\n"
          ]
        }
      ]
    },
    {
      "cell_type": "code",
      "source": [
        "# create model\n",
        "model = KerasClassifier(build_fn=create_model, \n",
        "                        epochs=10, batch_size=16, verbose=0)\n",
        "\n",
        "# define the grid search parameters\n",
        "drops = [0.0, 0.01, 0.05, 0.1, 0.2, 0.5]\n",
        "param_grid = dict(dr=drops)\n",
        "grid = GridSearchCV(estimator=model, param_grid=param_grid, verbose=2)\n",
        "grid_result = grid.fit(X_train, y_train)"
      ],
      "metadata": {
        "colab": {
          "base_uri": "https://localhost:8080/"
        },
        "id": "xK2MSRpPqC7I",
        "outputId": "af296cb1-b460-413b-bad3-28e313a62be9"
      },
      "execution_count": null,
      "outputs": [
        {
          "metadata": {
            "tags": null
          },
          "name": "stderr",
          "output_type": "stream",
          "text": [
            "/usr/local/lib/python3.7/dist-packages/ipykernel_launcher.py:3: DeprecationWarning: KerasClassifier is deprecated, use Sci-Keras (https://github.com/adriangb/scikeras) instead. See https://www.adriangb.com/scikeras/stable/migration.html for help migrating.\n",
            "  This is separate from the ipykernel package so we can avoid doing imports until\n"
          ]
        },
        {
          "output_type": "stream",
          "name": "stdout",
          "text": [
            "Fitting 5 folds for each of 6 candidates, totalling 30 fits\n",
            "[CV] END .............................................dr=0.0; total time= 1.1min\n",
            "[CV] END .............................................dr=0.0; total time= 1.1min\n",
            "[CV] END .............................................dr=0.0; total time= 1.2min\n",
            "[CV] END .............................................dr=0.0; total time= 1.2min\n",
            "[CV] END .............................................dr=0.0; total time= 1.4min\n",
            "[CV] END ............................................dr=0.01; total time= 1.4min\n",
            "[CV] END ............................................dr=0.01; total time= 1.4min\n",
            "[CV] END ............................................dr=0.01; total time= 1.1min\n",
            "[CV] END ............................................dr=0.01; total time= 1.4min\n",
            "[CV] END ............................................dr=0.01; total time= 1.1min\n",
            "[CV] END ............................................dr=0.05; total time= 1.4min\n",
            "[CV] END ............................................dr=0.05; total time= 1.1min\n",
            "[CV] END ............................................dr=0.05; total time= 1.1min\n",
            "[CV] END ............................................dr=0.05; total time= 1.4min\n",
            "[CV] END ............................................dr=0.05; total time= 1.4min\n",
            "[CV] END .............................................dr=0.1; total time= 1.1min\n",
            "[CV] END .............................................dr=0.1; total time= 1.1min\n",
            "[CV] END .............................................dr=0.1; total time= 1.1min\n",
            "[CV] END .............................................dr=0.1; total time= 1.4min\n",
            "[CV] END .............................................dr=0.1; total time= 1.1min\n",
            "[CV] END .............................................dr=0.2; total time= 1.4min\n",
            "[CV] END .............................................dr=0.2; total time= 1.1min\n",
            "[CV] END .............................................dr=0.2; total time= 1.4min\n",
            "[CV] END .............................................dr=0.2; total time= 1.1min\n",
            "[CV] END .............................................dr=0.2; total time= 1.1min\n",
            "[CV] END .............................................dr=0.5; total time= 1.1min\n",
            "[CV] END .............................................dr=0.5; total time= 1.4min\n",
            "[CV] END .............................................dr=0.5; total time= 1.4min\n",
            "[CV] END .............................................dr=0.5; total time= 1.1min\n",
            "[CV] END .............................................dr=0.5; total time= 1.4min\n"
          ]
        }
      ]
    },
    {
      "cell_type": "code",
      "source": [
        "# summarize results\n",
        "print(\"Best: %f using %s\" % (grid_result.best_score_, grid_result.best_params_))\n",
        "means = grid_result.cv_results_['mean_test_score']\n",
        "stds = grid_result.cv_results_['std_test_score']\n",
        "params = grid_result.cv_results_['params']\n",
        "for mean, stdev, param in zip(means, stds, params):\n",
        "    print(\"%f (%f) with: %r\" % (mean, stdev, param))"
      ],
      "metadata": {
        "colab": {
          "base_uri": "https://localhost:8080/"
        },
        "id": "hI_cpHoLqE2S",
        "outputId": "c2a3a124-889f-4e21-f42f-a36d346d9026"
      },
      "execution_count": null,
      "outputs": [
        {
          "output_type": "stream",
          "name": "stdout",
          "text": [
            "Best: 0.503787 using {'dr': 0.1}\n",
            "0.501973 (0.005059) with: {'dr': 0.0}\n",
            "0.502600 (0.002968) with: {'dr': 0.01}\n",
            "0.502840 (0.003693) with: {'dr': 0.05}\n",
            "0.503787 (0.007014) with: {'dr': 0.1}\n",
            "0.501947 (0.003709) with: {'dr': 0.2}\n",
            "0.502173 (0.002587) with: {'dr': 0.5}\n"
          ]
        }
      ]
    },
    {
      "cell_type": "code",
      "source": [
        "# create final model\n",
        "model = create_model(lyrs=[8], dr=0.1)\n",
        "\n",
        "print(model.summary())"
      ],
      "metadata": {
        "colab": {
          "base_uri": "https://localhost:8080/"
        },
        "id": "8-qBvKahqGio",
        "outputId": "86ccf6bb-5dd8-4599-c1f9-eeedff998059"
      },
      "execution_count": null,
      "outputs": [
        {
          "output_type": "stream",
          "name": "stdout",
          "text": [
            "Model: \"sequential_100\"\n",
            "_________________________________________________________________\n",
            " Layer (type)                Output Shape              Param #   \n",
            "=================================================================\n",
            " dense_222 (Dense)           (None, 8)                 88        \n",
            "                                                                 \n",
            " dropout_100 (Dropout)       (None, 8)                 0         \n",
            "                                                                 \n",
            " dense_223 (Dense)           (None, 1)                 9         \n",
            "                                                                 \n",
            "=================================================================\n",
            "Total params: 97\n",
            "Trainable params: 97\n",
            "Non-trainable params: 0\n",
            "_________________________________________________________________\n",
            "None\n"
          ]
        }
      ]
    },
    {
      "cell_type": "code",
      "source": [
        "# train model on full train set, with 80/20 CV split\n",
        "training = model.fit(X_train, y_train, epochs=10, batch_size=16, \n",
        "                     validation_split=0.2, verbose=0)\n",
        "\n",
        "# evaluate the model\n",
        "scores = model.evaluate(X_train, y_train)\n",
        "print(\"\\n%s: %.2f%%\" % (model.metrics_names[1], scores[1]*100))"
      ],
      "metadata": {
        "colab": {
          "base_uri": "https://localhost:8080/"
        },
        "id": "bXLHWnFzqIdn",
        "outputId": "4e8ca3cb-348a-4435-8ae5-01db91a8884d"
      },
      "execution_count": null,
      "outputs": [
        {
          "output_type": "stream",
          "name": "stdout",
          "text": [
            "2344/2344 [==============================] - 5s 2ms/step - loss: 0.6931 - accuracy: 0.5045\n",
            "\n",
            "accuracy: 50.45%\n"
          ]
        }
      ]
    },
    {
      "cell_type": "code",
      "source": [
        "# summarize history for accuracy\n",
        "plt.plot(training.history['accuracy'])\n",
        "plt.plot(training.history['val_accuracy'])\n",
        "plt.title('model accuracy')\n",
        "plt.ylabel('accuracy')\n",
        "plt.xlabel('epoch')\n",
        "plt.legend(['train', 'validation'], loc='upper left')\n",
        "plt.show()"
      ],
      "metadata": {
        "colab": {
          "base_uri": "https://localhost:8080/",
          "height": 627
        },
        "id": "3XjT7P1bqKQY",
        "outputId": "5e78bd20-fc43-4425-f94d-3ccd38fc7de4"
      },
      "execution_count": null,
      "outputs": [
        {
          "output_type": "display_data",
          "data": {
            "text/plain": [
              "<Figure size 1080x720 with 1 Axes>"
            ],
            "image/png": "[encoded data removed]"
          },
          "metadata": {}
        }
      ]
    },
    {
      "cell_type": "markdown",
      "source": [
        "# 5. Other Classifiers"
      ],
      "metadata": {
        "id": "RVWL7yTkSd-g"
      }
    },
    {
      "cell_type": "code",
      "source": [
        "seed_var = 42"
      ],
      "metadata": {
        "id": "9RHh7V73T_aT"
      },
      "execution_count": null,
      "outputs": []
    },
    {
      "cell_type": "code",
      "source": [
        "# model = LogisticRegression(penalty='none', max_iter = 100000) # best 0.45\n",
        "# model = LogisticRegression(penalty='l1', C=temp_c, solver='liblinear', max_iter = 1000) # best 0.42\n",
        "# model = LogisticRegression(penalty='l2', C=temp_c, solver='liblinear', max_iter = 1000) # best 0.42\n",
        "# model = DecisionTreeClassifier() # best 0.5\n",
        "# model = SVC(kernel='linear') # 0.34\n",
        "model = SVC(kernel='sigmoid') # 0.5\n"
      ],
      "metadata": {
        "id": "rQkepkh1ZVU2"
      },
      "execution_count": null,
      "outputs": []
    },
    {
      "cell_type": "code",
      "source": [
        "m = 'SVC Sigmoid'\n",
        "temp_c = 100\n",
        "temp_deg = None\n",
        "\n",
        "eval_matrix = pd.DataFrame(\n",
        "    columns = ['classifier', 'C_value', 'degree',\n",
        "                'Fold 1 F1', 'Fold 2 F1', 'Fold 3 F1',\n",
        "                'Fold 4 F1', #'Fold 5 F1',\n",
        "                'F1 average']\n",
        ")\n",
        "\n",
        "skf = StratifiedKFold(n_splits=4)\n",
        "fold_no = 1\n",
        "temp_list = []\n",
        "random.seed(seed_var)\n",
        "for train_index, test_index in skf.split(X_train[['num_01', 'num_02', 'num_03', 'num_04', 'num_05','num_06', 'num_07', 'num_08', 'num_09', 'num_10']], y_train):\n",
        "  train = X_train.iloc[train_index,:]\n",
        "  test = X_train.iloc[test_index,:]\n",
        "  X_train_temp, X_test_temp = train[[\n",
        "      'num_01', 'num_02', 'num_03', 'num_04', 'num_05','num_06', 'num_07', 'num_08', 'num_09', 'num_10'\n",
        "      ]], test[[\n",
        "          'num_01', 'num_02', 'num_03', 'num_04', 'num_05','num_06', 'num_07', 'num_08', 'num_09', 'num_10'\n",
        "      ]]\n",
        "  y_train_temp = y_train.iloc[train_index]\n",
        "  y_test_temp = y_train.iloc[test_index]\n",
        "  random.seed(seed_var)\n",
        "  model.fit(X_train_temp, y_train_temp)\n",
        "  predictions = model.predict(X_test_temp)\n",
        "  temp_list.append(f1_score(y_test_temp, predictions, average='weighted'))\n",
        "  fold_no += 1\n",
        "eval_matrix = eval_matrix.append({\n",
        "        'classifier': m, \n",
        "        'C_value': temp_c,\n",
        "        'degree': temp_deg, \n",
        "        'Fold 1 F1': temp_list[0], \n",
        "        'Fold 2 F1': temp_list[1],\n",
        "        'Fold 3 F1': temp_list[2],\n",
        "        'Fold 4 F1': temp_list[3],\n",
        "        #'Fold 5 F1': temp_list[4],\n",
        "        'F1 average': np.mean(temp_list) \n",
        "    }, ignore_index=True)"
      ],
      "metadata": {
        "id": "qpT5DfGJSiHT"
      },
      "execution_count": null,
      "outputs": []
    },
    {
      "cell_type": "code",
      "source": [
        "eval_matrix"
      ],
      "metadata": {
        "colab": {
          "base_uri": "https://localhost:8080/",
          "height": 81
        },
        "id": "J0IiX0z7YBOO",
        "outputId": "7b8ecea3-b99c-472b-da58-39081d67277a"
      },
      "execution_count": null,
      "outputs": [
        {
          "output_type": "execute_result",
          "data": {
            "text/plain": [
              "  classifier C_value degree  Fold 1 F1  Fold 2 F1  Fold 3 F1  Fold 4 F1  \\\n",
              "0       none     100   None   0.506661   0.495326   0.497591    0.50067   \n",
              "\n",
              "   F1 average  \n",
              "0    0.500062  "
            ],
            "text/html": [
              "\n",
              "  <div id=\"df-b192b230-30a9-4f70-a759-0d0164c7518b\">\n",
              "    <div class=\"colab-df-container\">\n",
              "      <div>\n",
              "<style scoped>\n",
              "    .dataframe tbody tr th:only-of-type {\n",
              "        vertical-align: middle;\n",
              "    }\n",
              "\n",
              "    .dataframe tbody tr th {\n",
              "        vertical-align: top;\n",
              "    }\n",
              "\n",
              "    .dataframe thead th {\n",
              "        text-align: right;\n",
              "    }\n",
              "</style>\n",
              "<table border=\"1\" class=\"dataframe\">\n",
              "  <thead>\n",
              "    <tr style=\"text-align: right;\">\n",
              "      <th></th>\n",
              "      <th>classifier</th>\n",
              "      <th>C_value</th>\n",
              "      <th>degree</th>\n",
              "      <th>Fold 1 F1</th>\n",
              "      <th>Fold 2 F1</th>\n",
              "      <th>Fold 3 F1</th>\n",
              "      <th>Fold 4 F1</th>\n",
              "      <th>F1 average</th>\n",
              "    </tr>\n",
              "  </thead>\n",
              "  <tbody>\n",
              "    <tr>\n",
              "      <th>0</th>\n",
              "      <td>none</td>\n",
              "      <td>100</td>\n",
              "      <td>None</td>\n",
              "      <td>0.506661</td>\n",
              "      <td>0.495326</td>\n",
              "      <td>0.497591</td>\n",
              "      <td>0.50067</td>\n",
              "      <td>0.500062</td>\n",
              "    </tr>\n",
              "  </tbody>\n",
              "</table>\n",
              "</div>\n",
              "      <button class=\"colab-df-convert\" onclick=\"convertToInteractive('df-b192b230-30a9-4f70-a759-0d0164c7518b')\"\n",
              "              title=\"Convert this dataframe to an interactive table.\"\n",
              "              style=\"display:none;\">\n",
              "        \n",
              "  <svg xmlns=\"http://www.w3.org/2000/svg\" height=\"24px\"viewBox=\"0 0 24 24\"\n",
              "       width=\"24px\">\n",
              "    <path d=\"M0 0h24v24H0V0z\" fill=\"none\"/>\n",
              "    <path d=\"M18.56 5.44l.94 2.06.94-2.06 2.06-.94-2.06-.94-.94-2.06-.94 2.06-2.06.94zm-11 1L8.5 8.5l.94-2.06 2.06-.94-2.06-.94L8.5 2.5l-.94 2.06-2.06.94zm10 10l.94 2.06.94-2.06 2.06-.94-2.06-.94-.94-2.06-.94 2.06-2.06.94z\"/><path d=\"M17.41 7.96l-1.37-1.37c-.4-.4-.92-.59-1.43-.59-.52 0-1.04.2-1.43.59L10.3 9.45l-7.72 7.72c-.78.78-.78 2.05 0 2.83L4 21.41c.39.39.9.59 1.41.59.51 0 1.02-.2 1.41-.59l7.78-7.78 2.81-2.81c.8-.78.8-2.07 0-2.86zM5.41 20L4 18.59l7.72-7.72 1.47 1.35L5.41 20z\"/>\n",
              "  </svg>\n",
              "      </button>\n",
              "      \n",
              "  <style>\n",
              "    .colab-df-container {\n",
              "      display:flex;\n",
              "      flex-wrap:wrap;\n",
              "      gap: 12px;\n",
              "    }\n",
              "\n",
              "    .colab-df-convert {\n",
              "      background-color: #E8F0FE;\n",
              "      border: none;\n",
              "      border-radius: 50%;\n",
              "      cursor: pointer;\n",
              "      display: none;\n",
              "      fill: #1967D2;\n",
              "      height: 32px;\n",
              "      padding: 0 0 0 0;\n",
              "      width: 32px;\n",
              "    }\n",
              "\n",
              "    .colab-df-convert:hover {\n",
              "      background-color: #E2EBFA;\n",
              "      box-shadow: 0px 1px 2px rgba(60, 64, 67, 0.3), 0px 1px 3px 1px rgba(60, 64, 67, 0.15);\n",
              "      fill: #174EA6;\n",
              "    }\n",
              "\n",
              "    [theme=dark] .colab-df-convert {\n",
              "      background-color: #3B4455;\n",
              "      fill: #D2E3FC;\n",
              "    }\n",
              "\n",
              "    [theme=dark] .colab-df-convert:hover {\n",
              "      background-color: #434B5C;\n",
              "      box-shadow: 0px 1px 3px 1px rgba(0, 0, 0, 0.15);\n",
              "      filter: drop-shadow(0px 1px 2px rgba(0, 0, 0, 0.3));\n",
              "      fill: #FFFFFF;\n",
              "    }\n",
              "  </style>\n",
              "\n",
              "      <script>\n",
              "        const buttonEl =\n",
              "          document.querySelector('#df-b192b230-30a9-4f70-a759-0d0164c7518b button.colab-df-convert');\n",
              "        buttonEl.style.display =\n",
              "          google.colab.kernel.accessAllowed ? 'block' : 'none';\n",
              "\n",
              "        async function convertToInteractive(key) {\n",
              "          const element = document.querySelector('#df-b192b230-30a9-4f70-a759-0d0164c7518b');\n",
              "          const dataTable =\n",
              "            await google.colab.kernel.invokeFunction('convertToInteractive',\n",
              "                                                     [key], {});\n",
              "          if (!dataTable) return;\n",
              "\n",
              "          const docLinkHtml = 'Like what you see? Visit the ' +\n",
              "            '<a target=\"_blank\" href=https://colab.research.google.com/notebooks/data_table.ipynb>data table notebook</a>'\n",
              "            + ' to learn more about interactive tables.';\n",
              "          element.innerHTML = '';\n",
              "          dataTable['output_type'] = 'display_data';\n",
              "          await google.colab.output.renderOutput(dataTable, element);\n",
              "          const docLink = document.createElement('div');\n",
              "          docLink.innerHTML = docLinkHtml;\n",
              "          element.appendChild(docLink);\n",
              "        }\n",
              "      </script>\n",
              "    </div>\n",
              "  </div>\n",
              "  "
            ]
          },
          "metadata": {},
          "execution_count": 101
        }
      ]
    },
    {
      "cell_type": "markdown",
      "source": [
        "# x. Make predictions for the unlabeled data"
      ],
      "metadata": {
        "id": "26LgSbEny7zL"
      }
    },
    {
      "cell_type": "markdown",
      "source": [
        "Load the data to be predicted"
      ],
      "metadata": {
        "id": "xITVNreUzS-C"
      }
    },
    {
      "cell_type": "code",
      "source": [
        "# Load data as Pandas dataframe\n",
        "unlabeled_data = pd.read_csv('../input/test-i.txt', sep=\" \", header=None,\n",
        "                 names=['num_01', 'num_02', 'num_03', 'num_04', 'num_05',\n",
        "                        'num_06', 'num_07', 'num_08', 'num_09', 'num_10'])"
      ],
      "metadata": {
        "id": "wG6kxCb4zIkO"
      },
      "execution_count": null,
      "outputs": []
    },
    {
      "cell_type": "code",
      "source": [
        "unlabeled_data.head(10)"
      ],
      "metadata": {
        "colab": {
          "base_uri": "https://localhost:8080/",
          "height": 363
        },
        "id": "eTIFw7DH89nJ",
        "outputId": "880a8648-207f-40d8-87a7-9a7e03d8bb97"
      },
      "execution_count": null,
      "outputs": [
        {
          "output_type": "execute_result",
          "data": {
            "text/plain": [
              "     num_01    num_02    num_03    num_04    num_05    num_06    num_07  \\\n",
              "0 -2.594116  1.855527  2.724305 -0.204641  0.774350 -1.975059 -0.769447   \n",
              "1 -0.940903  1.442394  0.599031 -0.844581  2.981113  0.707824  1.352913   \n",
              "2 -3.199796  4.878265  3.162526 -1.213153  0.307438 -1.240265 -1.678305   \n",
              "3 -2.407269  2.823782  4.407804 -0.456866  1.888080 -2.127489 -0.675040   \n",
              "4 -0.702502  1.580839  2.270906 -0.545130  0.296036 -3.285296 -1.657834   \n",
              "5 -2.691957  3.575437  3.518913 -0.304353 -1.003984 -3.848012 -3.732328   \n",
              "6 -3.204943  5.161712  2.811713 -0.948767 -0.719065 -1.521608 -2.226328   \n",
              "7 -3.937514  5.310633  4.188463 -1.002521  0.078249 -2.687297 -1.467165   \n",
              "8 -1.673174  0.972873  2.540266  0.021879  2.243066 -2.945877 -0.651543   \n",
              "9 -2.792630  4.945745  3.154692 -1.521820  0.128121 -1.727303 -2.015069   \n",
              "\n",
              "     num_08    num_09    num_10  \n",
              "0 -1.855881  0.997831  0.007212  \n",
              "1 -0.825582  0.198402  0.976310  \n",
              "2 -0.639494  1.108504  1.372675  \n",
              "3 -0.150679  0.546404  1.470138  \n",
              "4  0.045244  1.053267  0.245438  \n",
              "5 -1.043563  1.884800  0.233058  \n",
              "6 -0.546484  1.109119  0.991317  \n",
              "7 -1.836831  1.437945  0.364033  \n",
              "8 -0.064658  1.138258  1.511876  \n",
              "9  0.073933  1.329041  1.913461  "
            ],
            "text/html": [
              "\n",
              "  <div id=\"df-3eab6c49-e9ed-4a53-8dae-04bbe7fc663b\">\n",
              "    <div class=\"colab-df-container\">\n",
              "      <div>\n",
              "<style scoped>\n",
              "    .dataframe tbody tr th:only-of-type {\n",
              "        vertical-align: middle;\n",
              "    }\n",
              "\n",
              "    .dataframe tbody tr th {\n",
              "        vertical-align: top;\n",
              "    }\n",
              "\n",
              "    .dataframe thead th {\n",
              "        text-align: right;\n",
              "    }\n",
              "</style>\n",
              "<table border=\"1\" class=\"dataframe\">\n",
              "  <thead>\n",
              "    <tr style=\"text-align: right;\">\n",
              "      <th></th>\n",
              "      <th>num_01</th>\n",
              "      <th>num_02</th>\n",
              "      <th>num_03</th>\n",
              "      <th>num_04</th>\n",
              "      <th>num_05</th>\n",
              "      <th>num_06</th>\n",
              "      <th>num_07</th>\n",
              "      <th>num_08</th>\n",
              "      <th>num_09</th>\n",
              "      <th>num_10</th>\n",
              "    </tr>\n",
              "  </thead>\n",
              "  <tbody>\n",
              "    <tr>\n",
              "      <th>0</th>\n",
              "      <td>-2.594116</td>\n",
              "      <td>1.855527</td>\n",
              "      <td>2.724305</td>\n",
              "      <td>-0.204641</td>\n",
              "      <td>0.774350</td>\n",
              "      <td>-1.975059</td>\n",
              "      <td>-0.769447</td>\n",
              "      <td>-1.855881</td>\n",
              "      <td>0.997831</td>\n",
              "      <td>0.007212</td>\n",
              "    </tr>\n",
              "    <tr>\n",
              "      <th>1</th>\n",
              "      <td>-0.940903</td>\n",
              "      <td>1.442394</td>\n",
              "      <td>0.599031</td>\n",
              "      <td>-0.844581</td>\n",
              "      <td>2.981113</td>\n",
              "      <td>0.707824</td>\n",
              "      <td>1.352913</td>\n",
              "      <td>-0.825582</td>\n",
              "      <td>0.198402</td>\n",
              "      <td>0.976310</td>\n",
              "    </tr>\n",
              "    <tr>\n",
              "      <th>2</th>\n",
              "      <td>-3.199796</td>\n",
              "      <td>4.878265</td>\n",
              "      <td>3.162526</td>\n",
              "      <td>-1.213153</td>\n",
              "      <td>0.307438</td>\n",
              "      <td>-1.240265</td>\n",
              "      <td>-1.678305</td>\n",
              "      <td>-0.639494</td>\n",
              "      <td>1.108504</td>\n",
              "      <td>1.372675</td>\n",
              "    </tr>\n",
              "    <tr>\n",
              "      <th>3</th>\n",
              "      <td>-2.407269</td>\n",
              "      <td>2.823782</td>\n",
              "      <td>4.407804</td>\n",
              "      <td>-0.456866</td>\n",
              "      <td>1.888080</td>\n",
              "      <td>-2.127489</td>\n",
              "      <td>-0.675040</td>\n",
              "      <td>-0.150679</td>\n",
              "      <td>0.546404</td>\n",
              "      <td>1.470138</td>\n",
              "    </tr>\n",
              "    <tr>\n",
              "      <th>4</th>\n",
              "      <td>-0.702502</td>\n",
              "      <td>1.580839</td>\n",
              "      <td>2.270906</td>\n",
              "      <td>-0.545130</td>\n",
              "      <td>0.296036</td>\n",
              "      <td>-3.285296</td>\n",
              "      <td>-1.657834</td>\n",
              "      <td>0.045244</td>\n",
              "      <td>1.053267</td>\n",
              "      <td>0.245438</td>\n",
              "    </tr>\n",
              "    <tr>\n",
              "      <th>5</th>\n",
              "      <td>-2.691957</td>\n",
              "      <td>3.575437</td>\n",
              "      <td>3.518913</td>\n",
              "      <td>-0.304353</td>\n",
              "      <td>-1.003984</td>\n",
              "      <td>-3.848012</td>\n",
              "      <td>-3.732328</td>\n",
              "      <td>-1.043563</td>\n",
              "      <td>1.884800</td>\n",
              "      <td>0.233058</td>\n",
              "    </tr>\n",
              "    <tr>\n",
              "      <th>6</th>\n",
              "      <td>-3.204943</td>\n",
              "      <td>5.161712</td>\n",
              "      <td>2.811713</td>\n",
              "      <td>-0.948767</td>\n",
              "      <td>-0.719065</td>\n",
              "      <td>-1.521608</td>\n",
              "      <td>-2.226328</td>\n",
              "      <td>-0.546484</td>\n",
              "      <td>1.109119</td>\n",
              "      <td>0.991317</td>\n",
              "    </tr>\n",
              "    <tr>\n",
              "      <th>7</th>\n",
              "      <td>-3.937514</td>\n",
              "      <td>5.310633</td>\n",
              "      <td>4.188463</td>\n",
              "      <td>-1.002521</td>\n",
              "      <td>0.078249</td>\n",
              "      <td>-2.687297</td>\n",
              "      <td>-1.467165</td>\n",
              "      <td>-1.836831</td>\n",
              "      <td>1.437945</td>\n",
              "      <td>0.364033</td>\n",
              "    </tr>\n",
              "    <tr>\n",
              "      <th>8</th>\n",
              "      <td>-1.673174</td>\n",
              "      <td>0.972873</td>\n",
              "      <td>2.540266</td>\n",
              "      <td>0.021879</td>\n",
              "      <td>2.243066</td>\n",
              "      <td>-2.945877</td>\n",
              "      <td>-0.651543</td>\n",
              "      <td>-0.064658</td>\n",
              "      <td>1.138258</td>\n",
              "      <td>1.511876</td>\n",
              "    </tr>\n",
              "    <tr>\n",
              "      <th>9</th>\n",
              "      <td>-2.792630</td>\n",
              "      <td>4.945745</td>\n",
              "      <td>3.154692</td>\n",
              "      <td>-1.521820</td>\n",
              "      <td>0.128121</td>\n",
              "      <td>-1.727303</td>\n",
              "      <td>-2.015069</td>\n",
              "      <td>0.073933</td>\n",
              "      <td>1.329041</td>\n",
              "      <td>1.913461</td>\n",
              "    </tr>\n",
              "  </tbody>\n",
              "</table>\n",
              "</div>\n",
              "      <button class=\"colab-df-convert\" onclick=\"convertToInteractive('df-3eab6c49-e9ed-4a53-8dae-04bbe7fc663b')\"\n",
              "              title=\"Convert this dataframe to an interactive table.\"\n",
              "              style=\"display:none;\">\n",
              "        \n",
              "  <svg xmlns=\"http://www.w3.org/2000/svg\" height=\"24px\"viewBox=\"0 0 24 24\"\n",
              "       width=\"24px\">\n",
              "    <path d=\"M0 0h24v24H0V0z\" fill=\"none\"/>\n",
              "    <path d=\"M18.56 5.44l.94 2.06.94-2.06 2.06-.94-2.06-.94-.94-2.06-.94 2.06-2.06.94zm-11 1L8.5 8.5l.94-2.06 2.06-.94-2.06-.94L8.5 2.5l-.94 2.06-2.06.94zm10 10l.94 2.06.94-2.06 2.06-.94-2.06-.94-.94-2.06-.94 2.06-2.06.94z\"/><path d=\"M17.41 7.96l-1.37-1.37c-.4-.4-.92-.59-1.43-.59-.52 0-1.04.2-1.43.59L10.3 9.45l-7.72 7.72c-.78.78-.78 2.05 0 2.83L4 21.41c.39.39.9.59 1.41.59.51 0 1.02-.2 1.41-.59l7.78-7.78 2.81-2.81c.8-.78.8-2.07 0-2.86zM5.41 20L4 18.59l7.72-7.72 1.47 1.35L5.41 20z\"/>\n",
              "  </svg>\n",
              "      </button>\n",
              "      \n",
              "  <style>\n",
              "    .colab-df-container {\n",
              "      display:flex;\n",
              "      flex-wrap:wrap;\n",
              "      gap: 12px;\n",
              "    }\n",
              "\n",
              "    .colab-df-convert {\n",
              "      background-color: #E8F0FE;\n",
              "      border: none;\n",
              "      border-radius: 50%;\n",
              "      cursor: pointer;\n",
              "      display: none;\n",
              "      fill: #1967D2;\n",
              "      height: 32px;\n",
              "      padding: 0 0 0 0;\n",
              "      width: 32px;\n",
              "    }\n",
              "\n",
              "    .colab-df-convert:hover {\n",
              "      background-color: #E2EBFA;\n",
              "      box-shadow: 0px 1px 2px rgba(60, 64, 67, 0.3), 0px 1px 3px 1px rgba(60, 64, 67, 0.15);\n",
              "      fill: #174EA6;\n",
              "    }\n",
              "\n",
              "    [theme=dark] .colab-df-convert {\n",
              "      background-color: #3B4455;\n",
              "      fill: #D2E3FC;\n",
              "    }\n",
              "\n",
              "    [theme=dark] .colab-df-convert:hover {\n",
              "      background-color: #434B5C;\n",
              "      box-shadow: 0px 1px 3px 1px rgba(0, 0, 0, 0.15);\n",
              "      filter: drop-shadow(0px 1px 2px rgba(0, 0, 0, 0.3));\n",
              "      fill: #FFFFFF;\n",
              "    }\n",
              "  </style>\n",
              "\n",
              "      <script>\n",
              "        const buttonEl =\n",
              "          document.querySelector('#df-3eab6c49-e9ed-4a53-8dae-04bbe7fc663b button.colab-df-convert');\n",
              "        buttonEl.style.display =\n",
              "          google.colab.kernel.accessAllowed ? 'block' : 'none';\n",
              "\n",
              "        async function convertToInteractive(key) {\n",
              "          const element = document.querySelector('#df-3eab6c49-e9ed-4a53-8dae-04bbe7fc663b');\n",
              "          const dataTable =\n",
              "            await google.colab.kernel.invokeFunction('convertToInteractive',\n",
              "                                                     [key], {});\n",
              "          if (!dataTable) return;\n",
              "\n",
              "          const docLinkHtml = 'Like what you see? Visit the ' +\n",
              "            '<a target=\"_blank\" href=https://colab.research.google.com/notebooks/data_table.ipynb>data table notebook</a>'\n",
              "            + ' to learn more about interactive tables.';\n",
              "          element.innerHTML = '';\n",
              "          dataTable['output_type'] = 'display_data';\n",
              "          await google.colab.output.renderOutput(dataTable, element);\n",
              "          const docLink = document.createElement('div');\n",
              "          docLink.innerHTML = docLinkHtml;\n",
              "          element.appendChild(docLink);\n",
              "        }\n",
              "      </script>\n",
              "    </div>\n",
              "  </div>\n",
              "  "
            ]
          },
          "metadata": {},
          "execution_count": 126
        }
      ]
    },
    {
      "cell_type": "code",
      "source": [
        "labeled_data = unlabeled_data\n",
        "labeled_data['output'] = model.predict(labeled_data)\n",
        "labeled_data['output'] = labeled_data['output'].apply(lambda x: round(x,0)).astype('int')"
      ],
      "metadata": {
        "colab": {
          "base_uri": "https://localhost:8080/"
        },
        "id": "qlS8vVBCzY6w",
        "outputId": "dcdbe5ea-c444-44f0-a9f1-421247b6e390"
      },
      "execution_count": null,
      "outputs": [
        {
          "output_type": "stream",
          "name": "stdout",
          "text": [
            "313/313 [==============================] - 1s 1ms/step\n"
          ]
        }
      ]
    },
    {
      "cell_type": "code",
      "source": [
        "labeled_data.head(10)"
      ],
      "metadata": {
        "colab": {
          "base_uri": "https://localhost:8080/",
          "height": 363
        },
        "id": "N9F8j4pc0E1g",
        "outputId": "e11830e4-72fa-4fff-cca0-69e52f809488"
      },
      "execution_count": null,
      "outputs": [
        {
          "output_type": "execute_result",
          "data": {
            "text/plain": [
              "     num_01    num_02    num_03    num_04    num_05    num_06    num_07  \\\n",
              "0 -2.594116  1.855527  2.724305 -0.204641  0.774350 -1.975059 -0.769447   \n",
              "1 -0.940903  1.442394  0.599031 -0.844581  2.981113  0.707824  1.352913   \n",
              "2 -3.199796  4.878265  3.162526 -1.213153  0.307438 -1.240265 -1.678305   \n",
              "3 -2.407269  2.823782  4.407804 -0.456866  1.888080 -2.127489 -0.675040   \n",
              "4 -0.702502  1.580839  2.270906 -0.545130  0.296036 -3.285296 -1.657834   \n",
              "5 -2.691957  3.575437  3.518913 -0.304353 -1.003984 -3.848012 -3.732328   \n",
              "6 -3.204943  5.161712  2.811713 -0.948767 -0.719065 -1.521608 -2.226328   \n",
              "7 -3.937514  5.310633  4.188463 -1.002521  0.078249 -2.687297 -1.467165   \n",
              "8 -1.673174  0.972873  2.540266  0.021879  2.243066 -2.945877 -0.651543   \n",
              "9 -2.792630  4.945745  3.154692 -1.521820  0.128121 -1.727303 -2.015069   \n",
              "\n",
              "     num_08    num_09    num_10  output  \n",
              "0 -1.855881  0.997831  0.007212       1  \n",
              "1 -0.825582  0.198402  0.976310       1  \n",
              "2 -0.639494  1.108504  1.372675       1  \n",
              "3 -0.150679  0.546404  1.470138       1  \n",
              "4  0.045244  1.053267  0.245438       1  \n",
              "5 -1.043563  1.884800  0.233058       1  \n",
              "6 -0.546484  1.109119  0.991317       1  \n",
              "7 -1.836831  1.437945  0.364033       1  \n",
              "8 -0.064658  1.138258  1.511876       1  \n",
              "9  0.073933  1.329041  1.913461       1  "
            ],
            "text/html": [
              "\n",
              "  <div id=\"df-949e821b-5656-48bc-9cf4-28bfbb75c83b\">\n",
              "    <div class=\"colab-df-container\">\n",
              "      <div>\n",
              "<style scoped>\n",
              "    .dataframe tbody tr th:only-of-type {\n",
              "        vertical-align: middle;\n",
              "    }\n",
              "\n",
              "    .dataframe tbody tr th {\n",
              "        vertical-align: top;\n",
              "    }\n",
              "\n",
              "    .dataframe thead th {\n",
              "        text-align: right;\n",
              "    }\n",
              "</style>\n",
              "<table border=\"1\" class=\"dataframe\">\n",
              "  <thead>\n",
              "    <tr style=\"text-align: right;\">\n",
              "      <th></th>\n",
              "      <th>num_01</th>\n",
              "      <th>num_02</th>\n",
              "      <th>num_03</th>\n",
              "      <th>num_04</th>\n",
              "      <th>num_05</th>\n",
              "      <th>num_06</th>\n",
              "      <th>num_07</th>\n",
              "      <th>num_08</th>\n",
              "      <th>num_09</th>\n",
              "      <th>num_10</th>\n",
              "      <th>output</th>\n",
              "    </tr>\n",
              "  </thead>\n",
              "  <tbody>\n",
              "    <tr>\n",
              "      <th>0</th>\n",
              "      <td>-2.594116</td>\n",
              "      <td>1.855527</td>\n",
              "      <td>2.724305</td>\n",
              "      <td>-0.204641</td>\n",
              "      <td>0.774350</td>\n",
              "      <td>-1.975059</td>\n",
              "      <td>-0.769447</td>\n",
              "      <td>-1.855881</td>\n",
              "      <td>0.997831</td>\n",
              "      <td>0.007212</td>\n",
              "      <td>1</td>\n",
              "    </tr>\n",
              "    <tr>\n",
              "      <th>1</th>\n",
              "      <td>-0.940903</td>\n",
              "      <td>1.442394</td>\n",
              "      <td>0.599031</td>\n",
              "      <td>-0.844581</td>\n",
              "      <td>2.981113</td>\n",
              "      <td>0.707824</td>\n",
              "      <td>1.352913</td>\n",
              "      <td>-0.825582</td>\n",
              "      <td>0.198402</td>\n",
              "      <td>0.976310</td>\n",
              "      <td>1</td>\n",
              "    </tr>\n",
              "    <tr>\n",
              "      <th>2</th>\n",
              "      <td>-3.199796</td>\n",
              "      <td>4.878265</td>\n",
              "      <td>3.162526</td>\n",
              "      <td>-1.213153</td>\n",
              "      <td>0.307438</td>\n",
              "      <td>-1.240265</td>\n",
              "      <td>-1.678305</td>\n",
              "      <td>-0.639494</td>\n",
              "      <td>1.108504</td>\n",
              "      <td>1.372675</td>\n",
              "      <td>1</td>\n",
              "    </tr>\n",
              "    <tr>\n",
              "      <th>3</th>\n",
              "      <td>-2.407269</td>\n",
              "      <td>2.823782</td>\n",
              "      <td>4.407804</td>\n",
              "      <td>-0.456866</td>\n",
              "      <td>1.888080</td>\n",
              "      <td>-2.127489</td>\n",
              "      <td>-0.675040</td>\n",
              "      <td>-0.150679</td>\n",
              "      <td>0.546404</td>\n",
              "      <td>1.470138</td>\n",
              "      <td>1</td>\n",
              "    </tr>\n",
              "    <tr>\n",
              "      <th>4</th>\n",
              "      <td>-0.702502</td>\n",
              "      <td>1.580839</td>\n",
              "      <td>2.270906</td>\n",
              "      <td>-0.545130</td>\n",
              "      <td>0.296036</td>\n",
              "      <td>-3.285296</td>\n",
              "      <td>-1.657834</td>\n",
              "      <td>0.045244</td>\n",
              "      <td>1.053267</td>\n",
              "      <td>0.245438</td>\n",
              "      <td>1</td>\n",
              "    </tr>\n",
              "    <tr>\n",
              "      <th>5</th>\n",
              "      <td>-2.691957</td>\n",
              "      <td>3.575437</td>\n",
              "      <td>3.518913</td>\n",
              "      <td>-0.304353</td>\n",
              "      <td>-1.003984</td>\n",
              "      <td>-3.848012</td>\n",
              "      <td>-3.732328</td>\n",
              "      <td>-1.043563</td>\n",
              "      <td>1.884800</td>\n",
              "      <td>0.233058</td>\n",
              "      <td>1</td>\n",
              "    </tr>\n",
              "    <tr>\n",
              "      <th>6</th>\n",
              "      <td>-3.204943</td>\n",
              "      <td>5.161712</td>\n",
              "      <td>2.811713</td>\n",
              "      <td>-0.948767</td>\n",
              "      <td>-0.719065</td>\n",
              "      <td>-1.521608</td>\n",
              "      <td>-2.226328</td>\n",
              "      <td>-0.546484</td>\n",
              "      <td>1.109119</td>\n",
              "      <td>0.991317</td>\n",
              "      <td>1</td>\n",
              "    </tr>\n",
              "    <tr>\n",
              "      <th>7</th>\n",
              "      <td>-3.937514</td>\n",
              "      <td>5.310633</td>\n",
              "      <td>4.188463</td>\n",
              "      <td>-1.002521</td>\n",
              "      <td>0.078249</td>\n",
              "      <td>-2.687297</td>\n",
              "      <td>-1.467165</td>\n",
              "      <td>-1.836831</td>\n",
              "      <td>1.437945</td>\n",
              "      <td>0.364033</td>\n",
              "      <td>1</td>\n",
              "    </tr>\n",
              "    <tr>\n",
              "      <th>8</th>\n",
              "      <td>-1.673174</td>\n",
              "      <td>0.972873</td>\n",
              "      <td>2.540266</td>\n",
              "      <td>0.021879</td>\n",
              "      <td>2.243066</td>\n",
              "      <td>-2.945877</td>\n",
              "      <td>-0.651543</td>\n",
              "      <td>-0.064658</td>\n",
              "      <td>1.138258</td>\n",
              "      <td>1.511876</td>\n",
              "      <td>1</td>\n",
              "    </tr>\n",
              "    <tr>\n",
              "      <th>9</th>\n",
              "      <td>-2.792630</td>\n",
              "      <td>4.945745</td>\n",
              "      <td>3.154692</td>\n",
              "      <td>-1.521820</td>\n",
              "      <td>0.128121</td>\n",
              "      <td>-1.727303</td>\n",
              "      <td>-2.015069</td>\n",
              "      <td>0.073933</td>\n",
              "      <td>1.329041</td>\n",
              "      <td>1.913461</td>\n",
              "      <td>1</td>\n",
              "    </tr>\n",
              "  </tbody>\n",
              "</table>\n",
              "</div>\n",
              "      <button class=\"colab-df-convert\" onclick=\"convertToInteractive('df-949e821b-5656-48bc-9cf4-28bfbb75c83b')\"\n",
              "              title=\"Convert this dataframe to an interactive table.\"\n",
              "              style=\"display:none;\">\n",
              "        \n",
              "  <svg xmlns=\"http://www.w3.org/2000/svg\" height=\"24px\"viewBox=\"0 0 24 24\"\n",
              "       width=\"24px\">\n",
              "    <path d=\"M0 0h24v24H0V0z\" fill=\"none\"/>\n",
              "    <path d=\"M18.56 5.44l.94 2.06.94-2.06 2.06-.94-2.06-.94-.94-2.06-.94 2.06-2.06.94zm-11 1L8.5 8.5l.94-2.06 2.06-.94-2.06-.94L8.5 2.5l-.94 2.06-2.06.94zm10 10l.94 2.06.94-2.06 2.06-.94-2.06-.94-.94-2.06-.94 2.06-2.06.94z\"/><path d=\"M17.41 7.96l-1.37-1.37c-.4-.4-.92-.59-1.43-.59-.52 0-1.04.2-1.43.59L10.3 9.45l-7.72 7.72c-.78.78-.78 2.05 0 2.83L4 21.41c.39.39.9.59 1.41.59.51 0 1.02-.2 1.41-.59l7.78-7.78 2.81-2.81c.8-.78.8-2.07 0-2.86zM5.41 20L4 18.59l7.72-7.72 1.47 1.35L5.41 20z\"/>\n",
              "  </svg>\n",
              "      </button>\n",
              "      \n",
              "  <style>\n",
              "    .colab-df-container {\n",
              "      display:flex;\n",
              "      flex-wrap:wrap;\n",
              "      gap: 12px;\n",
              "    }\n",
              "\n",
              "    .colab-df-convert {\n",
              "      background-color: #E8F0FE;\n",
              "      border: none;\n",
              "      border-radius: 50%;\n",
              "      cursor: pointer;\n",
              "      display: none;\n",
              "      fill: #1967D2;\n",
              "      height: 32px;\n",
              "      padding: 0 0 0 0;\n",
              "      width: 32px;\n",
              "    }\n",
              "\n",
              "    .colab-df-convert:hover {\n",
              "      background-color: #E2EBFA;\n",
              "      box-shadow: 0px 1px 2px rgba(60, 64, 67, 0.3), 0px 1px 3px 1px rgba(60, 64, 67, 0.15);\n",
              "      fill: #174EA6;\n",
              "    }\n",
              "\n",
              "    [theme=dark] .colab-df-convert {\n",
              "      background-color: #3B4455;\n",
              "      fill: #D2E3FC;\n",
              "    }\n",
              "\n",
              "    [theme=dark] .colab-df-convert:hover {\n",
              "      background-color: #434B5C;\n",
              "      box-shadow: 0px 1px 3px 1px rgba(0, 0, 0, 0.15);\n",
              "      filter: drop-shadow(0px 1px 2px rgba(0, 0, 0, 0.3));\n",
              "      fill: #FFFFFF;\n",
              "    }\n",
              "  </style>\n",
              "\n",
              "      <script>\n",
              "        const buttonEl =\n",
              "          document.querySelector('#df-949e821b-5656-48bc-9cf4-28bfbb75c83b button.colab-df-convert');\n",
              "        buttonEl.style.display =\n",
              "          google.colab.kernel.accessAllowed ? 'block' : 'none';\n",
              "\n",
              "        async function convertToInteractive(key) {\n",
              "          const element = document.querySelector('#df-949e821b-5656-48bc-9cf4-28bfbb75c83b');\n",
              "          const dataTable =\n",
              "            await google.colab.kernel.invokeFunction('convertToInteractive',\n",
              "                                                     [key], {});\n",
              "          if (!dataTable) return;\n",
              "\n",
              "          const docLinkHtml = 'Like what you see? Visit the ' +\n",
              "            '<a target=\"_blank\" href=https://colab.research.google.com/notebooks/data_table.ipynb>data table notebook</a>'\n",
              "            + ' to learn more about interactive tables.';\n",
              "          element.innerHTML = '';\n",
              "          dataTable['output_type'] = 'display_data';\n",
              "          await google.colab.output.renderOutput(dataTable, element);\n",
              "          const docLink = document.createElement('div');\n",
              "          docLink.innerHTML = docLinkHtml;\n",
              "          element.appendChild(docLink);\n",
              "        }\n",
              "      </script>\n",
              "    </div>\n",
              "  </div>\n",
              "  "
            ]
          },
          "metadata": {},
          "execution_count": 128
        }
      ]
    },
    {
      "cell_type": "code",
      "source": [
        "np.savetxt(r'../results/test-o-hat.txt', unlabeled_data.output, fmt='%d')"
      ],
      "metadata": {
        "id": "pxeJHiDl0GjR"
      },
      "execution_count": null,
      "outputs": []
    },
    {
      "cell_type": "code",
      "source": [
        "# saving the final model\n",
        "save_model(model, \"../output/model.h5\")"
      ],
      "metadata": {
        "id": "XyskLxb0TheP"
      },
      "execution_count": null,
      "outputs": []
    }
  ]
}